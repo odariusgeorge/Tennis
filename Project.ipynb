{
 "cells": [
  {
   "cell_type": "markdown",
   "metadata": {},
   "source": [
    "# #DATA MANIPULATION #FEATURE ENGINEERING"
   ]
  },
  {
   "cell_type": "code",
   "execution_count": 1,
   "metadata": {},
   "outputs": [],
   "source": [
    "import warnings\n",
    "warnings.simplefilter(action='ignore')\n",
    "import pandas as pd  \n",
    "import os.path as osp\n",
    "import os\n",
    "import logging\n",
    "from glob import glob\n",
    "import numpy as np\n",
    "import re   \n",
    "import plotnine as pln\n",
    "from matplotlib import pyplot as plt\n",
    "from sklearn.linear_model import LinearRegression\n",
    "from sklearn.preprocessing import PolynomialFeatures\n",
    "from sklearn.ensemble import RandomForestClassifier, RandomForestRegressor\n",
    "from sklearn.model_selection import RandomizedSearchCV"
   ]
  },
  {
   "cell_type": "code",
   "execution_count": 2,
   "metadata": {},
   "outputs": [],
   "source": [
    "DATA_DIR = \"tennis_data\"\n",
    "ATP_DIR = './{}/ATP'.format(DATA_DIR)\n",
    "ATP_FILES = sorted(glob(\"%s/*.xls*\" % ATP_DIR))\n",
    "df_atp = pd.concat([pd.read_excel(f) for f in ATP_FILES], ignore_index=True,sort=True)"
   ]
  },
  {
   "cell_type": "code",
   "execution_count": 47,
   "metadata": {},
   "outputs": [],
   "source": [
    "winnersCount = df_atp['Winner'].value_counts()"
   ]
  },
  {
   "cell_type": "code",
   "execution_count": 48,
   "metadata": {},
   "outputs": [
    {
     "data": {
      "text/plain": [
       "Djokovic N.     237\n",
       "Nadal R.        212\n",
       "Thiem D.        192\n",
       "Federer R.      187\n",
       "Nishikori K.    180\n",
       "Zverev A.       170\n",
       "Murray A.       167\n",
       "Cilic M.        163\n",
       "Goffin D.       160\n",
       "Raonic M.       148\n",
       "Name: Winner, dtype: int64"
      ]
     },
     "execution_count": 48,
     "metadata": {},
     "output_type": "execute_result"
    }
   ],
   "source": [
    "# Find the players with the most wins\n",
    "winnersCount.sort_values(ascending=False).head(10)"
   ]
  },
  {
   "cell_type": "markdown",
   "metadata": {},
   "source": [
    "# Data Preparation\n",
    "## Data Splitting"
   ]
  },
  {
   "cell_type": "markdown",
   "metadata": {},
   "source": [
    "We start first by selecting the rows we're going to use, they belong to 4 categories :  \n",
    "1 - Location and organisation related features ( Tournament, Series, Date, Round)  \n",
    "2 - Game field related data (Surface, Court)  \n",
    "3 - Players' performances (LPts, WPts, WRank, LRank)  \n",
    "4 - Average betting data (AvgW, AvgL)  "
   ]
  },
  {
   "cell_type": "code",
   "execution_count": 49,
   "metadata": {},
   "outputs": [],
   "source": [
    "usedColumns = ['Best of',\n",
    "'Court',\n",
    "'Date',\n",
    "'LPts',\n",
    " 'LRank',\n",
    "'Loser',\n",
    " 'Round',\n",
    " 'Series',\n",
    " 'Surface',\n",
    " 'Tournament',\n",
    "'WPts',\n",
    " 'WRank',\n",
    " 'Winner']"
   ]
  },
  {
   "cell_type": "code",
   "execution_count": 50,
   "metadata": {},
   "outputs": [],
   "source": [
    "gTest = lambda x: x.year == 2019\n",
    "gTrain = lambda x: x.year < 2019\n",
    "testInd = df_atp['Date'].apply(gTest)\n",
    "trainInd = df_atp['Date'].apply(gTrain)"
   ]
  },
  {
   "cell_type": "code",
   "execution_count": 51,
   "metadata": {},
   "outputs": [],
   "source": [
    "#split the date in train and test\n",
    "#for 2019 I let just the Australian Open Matches\n",
    "df_atp_Train = df_atp.loc[trainInd, usedColumns].copy()\n",
    "df_atp_Test = df_atp.loc[testInd, usedColumns].copy()"
   ]
  },
  {
   "cell_type": "markdown",
   "metadata": {},
   "source": [
    "## Feature Engineering  \n",
    "### Output modeling  \n",
    "If we define the outcome of a match as the 'Winner's name', the problem would be a multi-classification task with an output taking labels belonging to the names of all players since 2000. This approach is not realistic since for each match we have two players and the winner is among them. One way to explore that is to consider two aditionnal features 'player1' and 'player2' to which we randomly assign the match winner and loser, the target variable would belong to the couple (0,1) and the problem can be treated as a **binary classification** learning."
   ]
  },
  {
   "cell_type": "code",
   "execution_count": 71,
   "metadata": {},
   "outputs": [
    {
     "data": {
      "text/html": [
       "<div>\n",
       "<style scoped>\n",
       "    .dataframe tbody tr th:only-of-type {\n",
       "        vertical-align: middle;\n",
       "    }\n",
       "\n",
       "    .dataframe tbody tr th {\n",
       "        vertical-align: top;\n",
       "    }\n",
       "\n",
       "    .dataframe thead th {\n",
       "        text-align: right;\n",
       "    }\n",
       "</style>\n",
       "<table border=\"1\" class=\"dataframe\">\n",
       "  <thead>\n",
       "    <tr style=\"text-align: right;\">\n",
       "      <th></th>\n",
       "      <th>Best of</th>\n",
       "      <th>Court</th>\n",
       "      <th>Date</th>\n",
       "      <th>LPts</th>\n",
       "      <th>LRank</th>\n",
       "      <th>Loser</th>\n",
       "      <th>Round</th>\n",
       "      <th>Series</th>\n",
       "      <th>Surface</th>\n",
       "      <th>Tournament</th>\n",
       "      <th>WPts</th>\n",
       "      <th>WRank</th>\n",
       "      <th>Winner</th>\n",
       "      <th>Player1</th>\n",
       "      <th>Player2</th>\n",
       "    </tr>\n",
       "  </thead>\n",
       "  <tbody>\n",
       "    <tr>\n",
       "      <th>0</th>\n",
       "      <td>3</td>\n",
       "      <td>Outdoor</td>\n",
       "      <td>2015-01-05</td>\n",
       "      <td>1730.0</td>\n",
       "      <td>21.0</td>\n",
       "      <td>Simon G.</td>\n",
       "      <td>1st Round</td>\n",
       "      <td>ATP250</td>\n",
       "      <td>Hard</td>\n",
       "      <td>Brisbane International</td>\n",
       "      <td>430.0</td>\n",
       "      <td>125.0</td>\n",
       "      <td>Duckworth J.</td>\n",
       "      <td>Duckworth J.</td>\n",
       "      <td>Simon G.</td>\n",
       "    </tr>\n",
       "    <tr>\n",
       "      <th>1</th>\n",
       "      <td>3</td>\n",
       "      <td>Outdoor</td>\n",
       "      <td>2015-01-05</td>\n",
       "      <td>1365.0</td>\n",
       "      <td>25.0</td>\n",
       "      <td>Benneteau J.</td>\n",
       "      <td>1st Round</td>\n",
       "      <td>ATP250</td>\n",
       "      <td>Hard</td>\n",
       "      <td>Brisbane International</td>\n",
       "      <td>341.0</td>\n",
       "      <td>149.0</td>\n",
       "      <td>Kokkinakis T.</td>\n",
       "      <td>Kokkinakis T.</td>\n",
       "      <td>Benneteau J.</td>\n",
       "    </tr>\n",
       "    <tr>\n",
       "      <th>2</th>\n",
       "      <td>3</td>\n",
       "      <td>Outdoor</td>\n",
       "      <td>2015-01-05</td>\n",
       "      <td>691.0</td>\n",
       "      <td>72.0</td>\n",
       "      <td>Golubev A.</td>\n",
       "      <td>1st Round</td>\n",
       "      <td>ATP250</td>\n",
       "      <td>Hard</td>\n",
       "      <td>Brisbane International</td>\n",
       "      <td>1195.0</td>\n",
       "      <td>31.0</td>\n",
       "      <td>Chardy J.</td>\n",
       "      <td>Chardy J.</td>\n",
       "      <td>Golubev A.</td>\n",
       "    </tr>\n",
       "    <tr>\n",
       "      <th>3</th>\n",
       "      <td>3</td>\n",
       "      <td>Outdoor</td>\n",
       "      <td>2015-01-05</td>\n",
       "      <td>1090.0</td>\n",
       "      <td>35.0</td>\n",
       "      <td>Querrey S.</td>\n",
       "      <td>1st Round</td>\n",
       "      <td>ATP250</td>\n",
       "      <td>Hard</td>\n",
       "      <td>Brisbane International</td>\n",
       "      <td>797.0</td>\n",
       "      <td>53.0</td>\n",
       "      <td>Tomic B.</td>\n",
       "      <td>Tomic B.</td>\n",
       "      <td>Querrey S.</td>\n",
       "    </tr>\n",
       "    <tr>\n",
       "      <th>4</th>\n",
       "      <td>3</td>\n",
       "      <td>Outdoor</td>\n",
       "      <td>2015-01-06</td>\n",
       "      <td>242.0</td>\n",
       "      <td>201.0</td>\n",
       "      <td>Copil M.</td>\n",
       "      <td>1st Round</td>\n",
       "      <td>ATP250</td>\n",
       "      <td>Hard</td>\n",
       "      <td>Brisbane International</td>\n",
       "      <td>705.0</td>\n",
       "      <td>69.0</td>\n",
       "      <td>Kukushkin M.</td>\n",
       "      <td>Kukushkin M.</td>\n",
       "      <td>Copil M.</td>\n",
       "    </tr>\n",
       "  </tbody>\n",
       "</table>\n",
       "</div>"
      ],
      "text/plain": [
       "   Best of    Court       Date    LPts  LRank         Loser      Round  \\\n",
       "0        3  Outdoor 2015-01-05  1730.0   21.0      Simon G.  1st Round   \n",
       "1        3  Outdoor 2015-01-05  1365.0   25.0  Benneteau J.  1st Round   \n",
       "2        3  Outdoor 2015-01-05   691.0   72.0    Golubev A.  1st Round   \n",
       "3        3  Outdoor 2015-01-05  1090.0   35.0    Querrey S.  1st Round   \n",
       "4        3  Outdoor 2015-01-06   242.0  201.0      Copil M.  1st Round   \n",
       "\n",
       "   Series Surface              Tournament    WPts  WRank         Winner  \\\n",
       "0  ATP250    Hard  Brisbane International   430.0  125.0   Duckworth J.   \n",
       "1  ATP250    Hard  Brisbane International   341.0  149.0  Kokkinakis T.   \n",
       "2  ATP250    Hard  Brisbane International  1195.0   31.0      Chardy J.   \n",
       "3  ATP250    Hard  Brisbane International   797.0   53.0       Tomic B.   \n",
       "4  ATP250    Hard  Brisbane International   705.0   69.0   Kukushkin M.   \n",
       "\n",
       "         Player1       Player2  \n",
       "0   Duckworth J.      Simon G.  \n",
       "1  Kokkinakis T.  Benneteau J.  \n",
       "2      Chardy J.    Golubev A.  \n",
       "3       Tomic B.    Querrey S.  \n",
       "4   Kukushkin M.      Copil M.  "
      ]
     },
     "execution_count": 71,
     "metadata": {},
     "output_type": "execute_result"
    }
   ],
   "source": [
    "df_atp_Train[['Player1','Player2']] = df_atp_Train.loc[:,['Winner','Loser']]\n",
    "df_atp_Train.head()"
   ]
  },
  {
   "cell_type": "code",
   "execution_count": 72,
   "metadata": {},
   "outputs": [],
   "source": [
    "np.random.seed(1995)"
   ]
  },
  {
   "cell_type": "code",
   "execution_count": 73,
   "metadata": {},
   "outputs": [],
   "source": [
    "Won = np.random.randint(2,size=len(df_atp_Train))"
   ]
  },
  {
   "cell_type": "code",
   "execution_count": 74,
   "metadata": {},
   "outputs": [],
   "source": [
    "df_atp_Train['Won'] = Won\n",
    "boolWon = (Won==0)"
   ]
  },
  {
   "cell_type": "code",
   "execution_count": 75,
   "metadata": {},
   "outputs": [],
   "source": [
    "df_atp_Train.loc[boolWon,'Player1'] , df_atp_Train.loc[boolWon,'Player2'] = df_atp_Train.loc[boolWon,'Player2'], df_atp_Train.loc[boolWon,'Player1']"
   ]
  },
  {
   "cell_type": "code",
   "execution_count": 76,
   "metadata": {},
   "outputs": [
    {
     "data": {
      "text/html": [
       "<div>\n",
       "<style scoped>\n",
       "    .dataframe tbody tr th:only-of-type {\n",
       "        vertical-align: middle;\n",
       "    }\n",
       "\n",
       "    .dataframe tbody tr th {\n",
       "        vertical-align: top;\n",
       "    }\n",
       "\n",
       "    .dataframe thead th {\n",
       "        text-align: right;\n",
       "    }\n",
       "</style>\n",
       "<table border=\"1\" class=\"dataframe\">\n",
       "  <thead>\n",
       "    <tr style=\"text-align: right;\">\n",
       "      <th></th>\n",
       "      <th>Best of</th>\n",
       "      <th>Court</th>\n",
       "      <th>Date</th>\n",
       "      <th>LPts</th>\n",
       "      <th>LRank</th>\n",
       "      <th>Loser</th>\n",
       "      <th>Round</th>\n",
       "      <th>Series</th>\n",
       "      <th>Surface</th>\n",
       "      <th>Tournament</th>\n",
       "      <th>WPts</th>\n",
       "      <th>WRank</th>\n",
       "      <th>Winner</th>\n",
       "      <th>Player1</th>\n",
       "      <th>Player2</th>\n",
       "      <th>Won</th>\n",
       "    </tr>\n",
       "  </thead>\n",
       "  <tbody>\n",
       "    <tr>\n",
       "      <th>0</th>\n",
       "      <td>3</td>\n",
       "      <td>Outdoor</td>\n",
       "      <td>2015-01-05</td>\n",
       "      <td>1730.0</td>\n",
       "      <td>21.0</td>\n",
       "      <td>Simon G.</td>\n",
       "      <td>1st Round</td>\n",
       "      <td>ATP250</td>\n",
       "      <td>Hard</td>\n",
       "      <td>Brisbane International</td>\n",
       "      <td>430.0</td>\n",
       "      <td>125.0</td>\n",
       "      <td>Duckworth J.</td>\n",
       "      <td>Simon G.</td>\n",
       "      <td>Duckworth J.</td>\n",
       "      <td>0</td>\n",
       "    </tr>\n",
       "    <tr>\n",
       "      <th>1</th>\n",
       "      <td>3</td>\n",
       "      <td>Outdoor</td>\n",
       "      <td>2015-01-05</td>\n",
       "      <td>1365.0</td>\n",
       "      <td>25.0</td>\n",
       "      <td>Benneteau J.</td>\n",
       "      <td>1st Round</td>\n",
       "      <td>ATP250</td>\n",
       "      <td>Hard</td>\n",
       "      <td>Brisbane International</td>\n",
       "      <td>341.0</td>\n",
       "      <td>149.0</td>\n",
       "      <td>Kokkinakis T.</td>\n",
       "      <td>Benneteau J.</td>\n",
       "      <td>Kokkinakis T.</td>\n",
       "      <td>0</td>\n",
       "    </tr>\n",
       "    <tr>\n",
       "      <th>2</th>\n",
       "      <td>3</td>\n",
       "      <td>Outdoor</td>\n",
       "      <td>2015-01-05</td>\n",
       "      <td>691.0</td>\n",
       "      <td>72.0</td>\n",
       "      <td>Golubev A.</td>\n",
       "      <td>1st Round</td>\n",
       "      <td>ATP250</td>\n",
       "      <td>Hard</td>\n",
       "      <td>Brisbane International</td>\n",
       "      <td>1195.0</td>\n",
       "      <td>31.0</td>\n",
       "      <td>Chardy J.</td>\n",
       "      <td>Golubev A.</td>\n",
       "      <td>Chardy J.</td>\n",
       "      <td>0</td>\n",
       "    </tr>\n",
       "    <tr>\n",
       "      <th>3</th>\n",
       "      <td>3</td>\n",
       "      <td>Outdoor</td>\n",
       "      <td>2015-01-05</td>\n",
       "      <td>1090.0</td>\n",
       "      <td>35.0</td>\n",
       "      <td>Querrey S.</td>\n",
       "      <td>1st Round</td>\n",
       "      <td>ATP250</td>\n",
       "      <td>Hard</td>\n",
       "      <td>Brisbane International</td>\n",
       "      <td>797.0</td>\n",
       "      <td>53.0</td>\n",
       "      <td>Tomic B.</td>\n",
       "      <td>Tomic B.</td>\n",
       "      <td>Querrey S.</td>\n",
       "      <td>1</td>\n",
       "    </tr>\n",
       "    <tr>\n",
       "      <th>4</th>\n",
       "      <td>3</td>\n",
       "      <td>Outdoor</td>\n",
       "      <td>2015-01-06</td>\n",
       "      <td>242.0</td>\n",
       "      <td>201.0</td>\n",
       "      <td>Copil M.</td>\n",
       "      <td>1st Round</td>\n",
       "      <td>ATP250</td>\n",
       "      <td>Hard</td>\n",
       "      <td>Brisbane International</td>\n",
       "      <td>705.0</td>\n",
       "      <td>69.0</td>\n",
       "      <td>Kukushkin M.</td>\n",
       "      <td>Kukushkin M.</td>\n",
       "      <td>Copil M.</td>\n",
       "      <td>1</td>\n",
       "    </tr>\n",
       "  </tbody>\n",
       "</table>\n",
       "</div>"
      ],
      "text/plain": [
       "   Best of    Court       Date    LPts  LRank         Loser      Round  \\\n",
       "0        3  Outdoor 2015-01-05  1730.0   21.0      Simon G.  1st Round   \n",
       "1        3  Outdoor 2015-01-05  1365.0   25.0  Benneteau J.  1st Round   \n",
       "2        3  Outdoor 2015-01-05   691.0   72.0    Golubev A.  1st Round   \n",
       "3        3  Outdoor 2015-01-05  1090.0   35.0    Querrey S.  1st Round   \n",
       "4        3  Outdoor 2015-01-06   242.0  201.0      Copil M.  1st Round   \n",
       "\n",
       "   Series Surface              Tournament    WPts  WRank         Winner  \\\n",
       "0  ATP250    Hard  Brisbane International   430.0  125.0   Duckworth J.   \n",
       "1  ATP250    Hard  Brisbane International   341.0  149.0  Kokkinakis T.   \n",
       "2  ATP250    Hard  Brisbane International  1195.0   31.0      Chardy J.   \n",
       "3  ATP250    Hard  Brisbane International   797.0   53.0       Tomic B.   \n",
       "4  ATP250    Hard  Brisbane International   705.0   69.0   Kukushkin M.   \n",
       "\n",
       "        Player1        Player2  Won  \n",
       "0      Simon G.   Duckworth J.    0  \n",
       "1  Benneteau J.  Kokkinakis T.    0  \n",
       "2    Golubev A.      Chardy J.    0  \n",
       "3      Tomic B.     Querrey S.    1  \n",
       "4  Kukushkin M.       Copil M.    1  "
      ]
     },
     "execution_count": 76,
     "metadata": {},
     "output_type": "execute_result"
    }
   ],
   "source": [
    "df_atp_Train.head()"
   ]
  },
  {
   "cell_type": "markdown",
   "metadata": {},
   "source": [
    "We do the same for the test set."
   ]
  },
  {
   "cell_type": "code",
   "execution_count": 77,
   "metadata": {},
   "outputs": [
    {
     "data": {
      "text/html": [
       "<div>\n",
       "<style scoped>\n",
       "    .dataframe tbody tr th:only-of-type {\n",
       "        vertical-align: middle;\n",
       "    }\n",
       "\n",
       "    .dataframe tbody tr th {\n",
       "        vertical-align: top;\n",
       "    }\n",
       "\n",
       "    .dataframe thead th {\n",
       "        text-align: right;\n",
       "    }\n",
       "</style>\n",
       "<table border=\"1\" class=\"dataframe\">\n",
       "  <thead>\n",
       "    <tr style=\"text-align: right;\">\n",
       "      <th></th>\n",
       "      <th>Best of</th>\n",
       "      <th>Court</th>\n",
       "      <th>Date</th>\n",
       "      <th>LPts</th>\n",
       "      <th>LRank</th>\n",
       "      <th>Loser</th>\n",
       "      <th>Round</th>\n",
       "      <th>Series</th>\n",
       "      <th>Surface</th>\n",
       "      <th>Tournament</th>\n",
       "      <th>WPts</th>\n",
       "      <th>WRank</th>\n",
       "      <th>Winner</th>\n",
       "      <th>Player1</th>\n",
       "      <th>Player2</th>\n",
       "    </tr>\n",
       "  </thead>\n",
       "  <tbody>\n",
       "    <tr>\n",
       "      <th>10526</th>\n",
       "      <td>5</td>\n",
       "      <td>Outdoor</td>\n",
       "      <td>2019-01-14</td>\n",
       "      <td>1045.0</td>\n",
       "      <td>42.0</td>\n",
       "      <td>Mannarino A.</td>\n",
       "      <td>1st Round</td>\n",
       "      <td>Grand Slam</td>\n",
       "      <td>Hard</td>\n",
       "      <td>Australian Open</td>\n",
       "      <td>4810.0</td>\n",
       "      <td>6.0</td>\n",
       "      <td>Anderson K.</td>\n",
       "      <td>Anderson K.</td>\n",
       "      <td>Mannarino A.</td>\n",
       "    </tr>\n",
       "    <tr>\n",
       "      <th>10527</th>\n",
       "      <td>5</td>\n",
       "      <td>Outdoor</td>\n",
       "      <td>2019-01-14</td>\n",
       "      <td>312.0</td>\n",
       "      <td>170.0</td>\n",
       "      <td>Eubanks C.</td>\n",
       "      <td>1st Round</td>\n",
       "      <td>Grand Slam</td>\n",
       "      <td>Hard</td>\n",
       "      <td>Australian Open</td>\n",
       "      <td>1820.0</td>\n",
       "      <td>20.0</td>\n",
       "      <td>Basilashvili N.</td>\n",
       "      <td>Basilashvili N.</td>\n",
       "      <td>Eubanks C.</td>\n",
       "    </tr>\n",
       "    <tr>\n",
       "      <th>10528</th>\n",
       "      <td>5</td>\n",
       "      <td>Outdoor</td>\n",
       "      <td>2019-01-14</td>\n",
       "      <td>526.0</td>\n",
       "      <td>107.0</td>\n",
       "      <td>Mmoh M.</td>\n",
       "      <td>1st Round</td>\n",
       "      <td>Grand Slam</td>\n",
       "      <td>Hard</td>\n",
       "      <td>Australian Open</td>\n",
       "      <td>585.0</td>\n",
       "      <td>98.0</td>\n",
       "      <td>Albot R.</td>\n",
       "      <td>Albot R.</td>\n",
       "      <td>Mmoh M.</td>\n",
       "    </tr>\n",
       "    <tr>\n",
       "      <th>10529</th>\n",
       "      <td>5</td>\n",
       "      <td>Outdoor</td>\n",
       "      <td>2019-01-14</td>\n",
       "      <td>708.0</td>\n",
       "      <td>77.0</td>\n",
       "      <td>Andreozzi G.</td>\n",
       "      <td>1st Round</td>\n",
       "      <td>Grand Slam</td>\n",
       "      <td>Hard</td>\n",
       "      <td>Australian Open</td>\n",
       "      <td>401.0</td>\n",
       "      <td>137.0</td>\n",
       "      <td>Travaglia S.</td>\n",
       "      <td>Travaglia S.</td>\n",
       "      <td>Andreozzi G.</td>\n",
       "    </tr>\n",
       "    <tr>\n",
       "      <th>10530</th>\n",
       "      <td>5</td>\n",
       "      <td>Outdoor</td>\n",
       "      <td>2019-01-14</td>\n",
       "      <td>458.0</td>\n",
       "      <td>125.0</td>\n",
       "      <td>Kecmanovic M.</td>\n",
       "      <td>1st Round</td>\n",
       "      <td>Grand Slam</td>\n",
       "      <td>Hard</td>\n",
       "      <td>Australian Open</td>\n",
       "      <td>1410.0</td>\n",
       "      <td>28.0</td>\n",
       "      <td>Verdasco F.</td>\n",
       "      <td>Verdasco F.</td>\n",
       "      <td>Kecmanovic M.</td>\n",
       "    </tr>\n",
       "  </tbody>\n",
       "</table>\n",
       "</div>"
      ],
      "text/plain": [
       "       Best of    Court       Date    LPts  LRank          Loser      Round  \\\n",
       "10526        5  Outdoor 2019-01-14  1045.0   42.0   Mannarino A.  1st Round   \n",
       "10527        5  Outdoor 2019-01-14   312.0  170.0     Eubanks C.  1st Round   \n",
       "10528        5  Outdoor 2019-01-14   526.0  107.0        Mmoh M.  1st Round   \n",
       "10529        5  Outdoor 2019-01-14   708.0   77.0   Andreozzi G.  1st Round   \n",
       "10530        5  Outdoor 2019-01-14   458.0  125.0  Kecmanovic M.  1st Round   \n",
       "\n",
       "           Series Surface       Tournament    WPts  WRank           Winner  \\\n",
       "10526  Grand Slam    Hard  Australian Open  4810.0    6.0      Anderson K.   \n",
       "10527  Grand Slam    Hard  Australian Open  1820.0   20.0  Basilashvili N.   \n",
       "10528  Grand Slam    Hard  Australian Open   585.0   98.0         Albot R.   \n",
       "10529  Grand Slam    Hard  Australian Open   401.0  137.0     Travaglia S.   \n",
       "10530  Grand Slam    Hard  Australian Open  1410.0   28.0      Verdasco F.   \n",
       "\n",
       "               Player1        Player2  \n",
       "10526      Anderson K.   Mannarino A.  \n",
       "10527  Basilashvili N.     Eubanks C.  \n",
       "10528         Albot R.        Mmoh M.  \n",
       "10529     Travaglia S.   Andreozzi G.  \n",
       "10530      Verdasco F.  Kecmanovic M.  "
      ]
     },
     "execution_count": 77,
     "metadata": {},
     "output_type": "execute_result"
    }
   ],
   "source": [
    "df_atp_Test[['Player1','Player2']] = df_atp_Test.loc[:,['Winner','Loser']]\n",
    "df_atp_Test.head()"
   ]
  },
  {
   "cell_type": "code",
   "execution_count": 78,
   "metadata": {},
   "outputs": [],
   "source": [
    "WonT = np.random.randint(2,size=len(df_atp_Test))\n",
    "boolWonT = (WonT==0)\n",
    "df_atp_Test['Won'] = WonT"
   ]
  },
  {
   "cell_type": "code",
   "execution_count": 79,
   "metadata": {},
   "outputs": [
    {
     "data": {
      "text/html": [
       "<div>\n",
       "<style scoped>\n",
       "    .dataframe tbody tr th:only-of-type {\n",
       "        vertical-align: middle;\n",
       "    }\n",
       "\n",
       "    .dataframe tbody tr th {\n",
       "        vertical-align: top;\n",
       "    }\n",
       "\n",
       "    .dataframe thead th {\n",
       "        text-align: right;\n",
       "    }\n",
       "</style>\n",
       "<table border=\"1\" class=\"dataframe\">\n",
       "  <thead>\n",
       "    <tr style=\"text-align: right;\">\n",
       "      <th></th>\n",
       "      <th>Best of</th>\n",
       "      <th>Court</th>\n",
       "      <th>Date</th>\n",
       "      <th>LPts</th>\n",
       "      <th>LRank</th>\n",
       "      <th>Loser</th>\n",
       "      <th>Round</th>\n",
       "      <th>Series</th>\n",
       "      <th>Surface</th>\n",
       "      <th>Tournament</th>\n",
       "      <th>WPts</th>\n",
       "      <th>WRank</th>\n",
       "      <th>Winner</th>\n",
       "      <th>Player1</th>\n",
       "      <th>Player2</th>\n",
       "      <th>Won</th>\n",
       "    </tr>\n",
       "  </thead>\n",
       "  <tbody>\n",
       "    <tr>\n",
       "      <th>10526</th>\n",
       "      <td>5</td>\n",
       "      <td>Outdoor</td>\n",
       "      <td>2019-01-14</td>\n",
       "      <td>1045.0</td>\n",
       "      <td>42.0</td>\n",
       "      <td>Mannarino A.</td>\n",
       "      <td>1st Round</td>\n",
       "      <td>Grand Slam</td>\n",
       "      <td>Hard</td>\n",
       "      <td>Australian Open</td>\n",
       "      <td>4810.0</td>\n",
       "      <td>6.0</td>\n",
       "      <td>Anderson K.</td>\n",
       "      <td>Anderson K.</td>\n",
       "      <td>Mannarino A.</td>\n",
       "      <td>1</td>\n",
       "    </tr>\n",
       "    <tr>\n",
       "      <th>10527</th>\n",
       "      <td>5</td>\n",
       "      <td>Outdoor</td>\n",
       "      <td>2019-01-14</td>\n",
       "      <td>312.0</td>\n",
       "      <td>170.0</td>\n",
       "      <td>Eubanks C.</td>\n",
       "      <td>1st Round</td>\n",
       "      <td>Grand Slam</td>\n",
       "      <td>Hard</td>\n",
       "      <td>Australian Open</td>\n",
       "      <td>1820.0</td>\n",
       "      <td>20.0</td>\n",
       "      <td>Basilashvili N.</td>\n",
       "      <td>Basilashvili N.</td>\n",
       "      <td>Eubanks C.</td>\n",
       "      <td>0</td>\n",
       "    </tr>\n",
       "    <tr>\n",
       "      <th>10528</th>\n",
       "      <td>5</td>\n",
       "      <td>Outdoor</td>\n",
       "      <td>2019-01-14</td>\n",
       "      <td>526.0</td>\n",
       "      <td>107.0</td>\n",
       "      <td>Mmoh M.</td>\n",
       "      <td>1st Round</td>\n",
       "      <td>Grand Slam</td>\n",
       "      <td>Hard</td>\n",
       "      <td>Australian Open</td>\n",
       "      <td>585.0</td>\n",
       "      <td>98.0</td>\n",
       "      <td>Albot R.</td>\n",
       "      <td>Albot R.</td>\n",
       "      <td>Mmoh M.</td>\n",
       "      <td>1</td>\n",
       "    </tr>\n",
       "    <tr>\n",
       "      <th>10529</th>\n",
       "      <td>5</td>\n",
       "      <td>Outdoor</td>\n",
       "      <td>2019-01-14</td>\n",
       "      <td>708.0</td>\n",
       "      <td>77.0</td>\n",
       "      <td>Andreozzi G.</td>\n",
       "      <td>1st Round</td>\n",
       "      <td>Grand Slam</td>\n",
       "      <td>Hard</td>\n",
       "      <td>Australian Open</td>\n",
       "      <td>401.0</td>\n",
       "      <td>137.0</td>\n",
       "      <td>Travaglia S.</td>\n",
       "      <td>Travaglia S.</td>\n",
       "      <td>Andreozzi G.</td>\n",
       "      <td>1</td>\n",
       "    </tr>\n",
       "    <tr>\n",
       "      <th>10530</th>\n",
       "      <td>5</td>\n",
       "      <td>Outdoor</td>\n",
       "      <td>2019-01-14</td>\n",
       "      <td>458.0</td>\n",
       "      <td>125.0</td>\n",
       "      <td>Kecmanovic M.</td>\n",
       "      <td>1st Round</td>\n",
       "      <td>Grand Slam</td>\n",
       "      <td>Hard</td>\n",
       "      <td>Australian Open</td>\n",
       "      <td>1410.0</td>\n",
       "      <td>28.0</td>\n",
       "      <td>Verdasco F.</td>\n",
       "      <td>Verdasco F.</td>\n",
       "      <td>Kecmanovic M.</td>\n",
       "      <td>0</td>\n",
       "    </tr>\n",
       "  </tbody>\n",
       "</table>\n",
       "</div>"
      ],
      "text/plain": [
       "       Best of    Court       Date    LPts  LRank          Loser      Round  \\\n",
       "10526        5  Outdoor 2019-01-14  1045.0   42.0   Mannarino A.  1st Round   \n",
       "10527        5  Outdoor 2019-01-14   312.0  170.0     Eubanks C.  1st Round   \n",
       "10528        5  Outdoor 2019-01-14   526.0  107.0        Mmoh M.  1st Round   \n",
       "10529        5  Outdoor 2019-01-14   708.0   77.0   Andreozzi G.  1st Round   \n",
       "10530        5  Outdoor 2019-01-14   458.0  125.0  Kecmanovic M.  1st Round   \n",
       "\n",
       "           Series Surface       Tournament    WPts  WRank           Winner  \\\n",
       "10526  Grand Slam    Hard  Australian Open  4810.0    6.0      Anderson K.   \n",
       "10527  Grand Slam    Hard  Australian Open  1820.0   20.0  Basilashvili N.   \n",
       "10528  Grand Slam    Hard  Australian Open   585.0   98.0         Albot R.   \n",
       "10529  Grand Slam    Hard  Australian Open   401.0  137.0     Travaglia S.   \n",
       "10530  Grand Slam    Hard  Australian Open  1410.0   28.0      Verdasco F.   \n",
       "\n",
       "               Player1        Player2  Won  \n",
       "10526      Anderson K.   Mannarino A.    1  \n",
       "10527  Basilashvili N.     Eubanks C.    0  \n",
       "10528         Albot R.        Mmoh M.    1  \n",
       "10529     Travaglia S.   Andreozzi G.    1  \n",
       "10530      Verdasco F.  Kecmanovic M.    0  "
      ]
     },
     "execution_count": 79,
     "metadata": {},
     "output_type": "execute_result"
    }
   ],
   "source": [
    "df_atp_Test.head()"
   ]
  },
  {
   "cell_type": "code",
   "execution_count": 80,
   "metadata": {},
   "outputs": [],
   "source": [
    "df_atp_Test.loc[boolWonT,'Player1'] , df_atp_Test.loc[boolWonT,'Player2'] = df_atp_Test.loc[boolWonT,'Player2'], df_atp_Test.loc[boolWonT,'Player1']"
   ]
  },
  {
   "cell_type": "code",
   "execution_count": 81,
   "metadata": {},
   "outputs": [
    {
     "data": {
      "text/html": [
       "<div>\n",
       "<style scoped>\n",
       "    .dataframe tbody tr th:only-of-type {\n",
       "        vertical-align: middle;\n",
       "    }\n",
       "\n",
       "    .dataframe tbody tr th {\n",
       "        vertical-align: top;\n",
       "    }\n",
       "\n",
       "    .dataframe thead th {\n",
       "        text-align: right;\n",
       "    }\n",
       "</style>\n",
       "<table border=\"1\" class=\"dataframe\">\n",
       "  <thead>\n",
       "    <tr style=\"text-align: right;\">\n",
       "      <th></th>\n",
       "      <th>Best of</th>\n",
       "      <th>Court</th>\n",
       "      <th>Date</th>\n",
       "      <th>LPts</th>\n",
       "      <th>LRank</th>\n",
       "      <th>Loser</th>\n",
       "      <th>Round</th>\n",
       "      <th>Series</th>\n",
       "      <th>Surface</th>\n",
       "      <th>Tournament</th>\n",
       "      <th>WPts</th>\n",
       "      <th>WRank</th>\n",
       "      <th>Winner</th>\n",
       "      <th>Player1</th>\n",
       "      <th>Player2</th>\n",
       "      <th>Won</th>\n",
       "    </tr>\n",
       "  </thead>\n",
       "  <tbody>\n",
       "    <tr>\n",
       "      <th>10526</th>\n",
       "      <td>5</td>\n",
       "      <td>Outdoor</td>\n",
       "      <td>2019-01-14</td>\n",
       "      <td>1045.0</td>\n",
       "      <td>42.0</td>\n",
       "      <td>Mannarino A.</td>\n",
       "      <td>1st Round</td>\n",
       "      <td>Grand Slam</td>\n",
       "      <td>Hard</td>\n",
       "      <td>Australian Open</td>\n",
       "      <td>4810.0</td>\n",
       "      <td>6.0</td>\n",
       "      <td>Anderson K.</td>\n",
       "      <td>Anderson K.</td>\n",
       "      <td>Mannarino A.</td>\n",
       "      <td>1</td>\n",
       "    </tr>\n",
       "    <tr>\n",
       "      <th>10527</th>\n",
       "      <td>5</td>\n",
       "      <td>Outdoor</td>\n",
       "      <td>2019-01-14</td>\n",
       "      <td>312.0</td>\n",
       "      <td>170.0</td>\n",
       "      <td>Eubanks C.</td>\n",
       "      <td>1st Round</td>\n",
       "      <td>Grand Slam</td>\n",
       "      <td>Hard</td>\n",
       "      <td>Australian Open</td>\n",
       "      <td>1820.0</td>\n",
       "      <td>20.0</td>\n",
       "      <td>Basilashvili N.</td>\n",
       "      <td>Eubanks C.</td>\n",
       "      <td>Basilashvili N.</td>\n",
       "      <td>0</td>\n",
       "    </tr>\n",
       "    <tr>\n",
       "      <th>10528</th>\n",
       "      <td>5</td>\n",
       "      <td>Outdoor</td>\n",
       "      <td>2019-01-14</td>\n",
       "      <td>526.0</td>\n",
       "      <td>107.0</td>\n",
       "      <td>Mmoh M.</td>\n",
       "      <td>1st Round</td>\n",
       "      <td>Grand Slam</td>\n",
       "      <td>Hard</td>\n",
       "      <td>Australian Open</td>\n",
       "      <td>585.0</td>\n",
       "      <td>98.0</td>\n",
       "      <td>Albot R.</td>\n",
       "      <td>Albot R.</td>\n",
       "      <td>Mmoh M.</td>\n",
       "      <td>1</td>\n",
       "    </tr>\n",
       "    <tr>\n",
       "      <th>10529</th>\n",
       "      <td>5</td>\n",
       "      <td>Outdoor</td>\n",
       "      <td>2019-01-14</td>\n",
       "      <td>708.0</td>\n",
       "      <td>77.0</td>\n",
       "      <td>Andreozzi G.</td>\n",
       "      <td>1st Round</td>\n",
       "      <td>Grand Slam</td>\n",
       "      <td>Hard</td>\n",
       "      <td>Australian Open</td>\n",
       "      <td>401.0</td>\n",
       "      <td>137.0</td>\n",
       "      <td>Travaglia S.</td>\n",
       "      <td>Travaglia S.</td>\n",
       "      <td>Andreozzi G.</td>\n",
       "      <td>1</td>\n",
       "    </tr>\n",
       "    <tr>\n",
       "      <th>10530</th>\n",
       "      <td>5</td>\n",
       "      <td>Outdoor</td>\n",
       "      <td>2019-01-14</td>\n",
       "      <td>458.0</td>\n",
       "      <td>125.0</td>\n",
       "      <td>Kecmanovic M.</td>\n",
       "      <td>1st Round</td>\n",
       "      <td>Grand Slam</td>\n",
       "      <td>Hard</td>\n",
       "      <td>Australian Open</td>\n",
       "      <td>1410.0</td>\n",
       "      <td>28.0</td>\n",
       "      <td>Verdasco F.</td>\n",
       "      <td>Kecmanovic M.</td>\n",
       "      <td>Verdasco F.</td>\n",
       "      <td>0</td>\n",
       "    </tr>\n",
       "  </tbody>\n",
       "</table>\n",
       "</div>"
      ],
      "text/plain": [
       "       Best of    Court       Date    LPts  LRank          Loser      Round  \\\n",
       "10526        5  Outdoor 2019-01-14  1045.0   42.0   Mannarino A.  1st Round   \n",
       "10527        5  Outdoor 2019-01-14   312.0  170.0     Eubanks C.  1st Round   \n",
       "10528        5  Outdoor 2019-01-14   526.0  107.0        Mmoh M.  1st Round   \n",
       "10529        5  Outdoor 2019-01-14   708.0   77.0   Andreozzi G.  1st Round   \n",
       "10530        5  Outdoor 2019-01-14   458.0  125.0  Kecmanovic M.  1st Round   \n",
       "\n",
       "           Series Surface       Tournament    WPts  WRank           Winner  \\\n",
       "10526  Grand Slam    Hard  Australian Open  4810.0    6.0      Anderson K.   \n",
       "10527  Grand Slam    Hard  Australian Open  1820.0   20.0  Basilashvili N.   \n",
       "10528  Grand Slam    Hard  Australian Open   585.0   98.0         Albot R.   \n",
       "10529  Grand Slam    Hard  Australian Open   401.0  137.0     Travaglia S.   \n",
       "10530  Grand Slam    Hard  Australian Open  1410.0   28.0      Verdasco F.   \n",
       "\n",
       "             Player1          Player2  Won  \n",
       "10526    Anderson K.     Mannarino A.    1  \n",
       "10527     Eubanks C.  Basilashvili N.    0  \n",
       "10528       Albot R.          Mmoh M.    1  \n",
       "10529   Travaglia S.     Andreozzi G.    1  \n",
       "10530  Kecmanovic M.      Verdasco F.    0  "
      ]
     },
     "execution_count": 81,
     "metadata": {},
     "output_type": "execute_result"
    }
   ],
   "source": [
    "df_atp_Test.head()"
   ]
  },
  {
   "cell_type": "markdown",
   "metadata": {},
   "source": [
    "### Feature creation  \n",
    "#### Player1 Vs Player2  \n",
    "H2H wins variable : count of all times when player1 beated player2 minus the count of all times when player2 beated player1 before the year of the match. \n",
    "Return of the next function:\n",
    "A dataframe with the Winner, Loser, winning rate of the winner in the past (<Year)\n",
    "The victories are also weighted with the number of Sets played (Best Of)."
   ]
  },
  {
   "cell_type": "code",
   "execution_count": 82,
   "metadata": {},
   "outputs": [],
   "source": [
    "df_atp_Train['Year'] = df_atp_Train.Date.apply(lambda x : x.year)"
   ]
  },
  {
   "cell_type": "code",
   "execution_count": 83,
   "metadata": {},
   "outputs": [],
   "source": [
    "df_atp_Test['Year'] = df_atp_Test.Date.apply(lambda x : x.year)"
   ]
  },
  {
   "cell_type": "code",
   "execution_count": 85,
   "metadata": {},
   "outputs": [],
   "source": [
    "def recordedVs(Year, data, past = 4, includeYear = False):\n",
    "    pastYears = np.min([past, Year-2015])\n",
    "    if includeYear:\n",
    "        includeY = 1\n",
    "    else:\n",
    "        includeY = 0\n",
    "    \n",
    "    df_sub = data.loc[(Year-pastYears <= data.Year) & (data.Year<Year+includeY),['Best of','Winner','Loser']].copy()\n",
    "    df_sub['CouplesSet'] = df_sub.apply(lambda x : str(set((x['Winner'], x['Loser']))), axis=1)\n",
    "    countSets = df_sub.CouplesSet.value_counts()\n",
    "    countSets = pd.DataFrame({'couplePlayer':countSets.index, 'NMatche':countSets.values})\n",
    "    countWons = df_sub.groupby(['Winner','Loser'])\n",
    "    countWons = countWons.aggregate(['count','mean'])\n",
    "    countWons.reset_index(inplace=True)\n",
    "    countWons['CountWon'] = countWons.loc[:,('Best of','count')]\n",
    "    countWons['MeanBestOf'] = countWons.loc[:,('Best of','mean')]\n",
    "    countWons.drop(axis=1, columns='Best of', level=0, inplace=True)\n",
    "    countWons['relativeVictory'] = 0.0\n",
    "    countWIndx = countWons.index\n",
    "    countSIndx = countSets.index\n",
    "    \n",
    "    for i in range(len(countWons)):\n",
    "        p1 = countWons.loc[countWIndx[i],'Winner'].values[0]\n",
    "        p2 = countWons.loc[countWIndx[i],'Loser'].values[0]\n",
    "    \n",
    "        Nindex = countSIndx[countSets.couplePlayer.apply(lambda x : (p1 in x) & (p2 in x) )]\n",
    "        N = countSets.loc[Nindex, 'NMatche']\n",
    "        countWons.loc[countWIndx[i],'relativeVictory'] = np.asscalar(countWons.loc[countWIndx[i],'CountWon']/N.values[0])\n",
    "    return(countWons)\n"
   ]
  },
  {
   "cell_type": "code",
   "execution_count": 86,
   "metadata": {},
   "outputs": [
    {
     "name": "stderr",
     "output_type": "stream",
     "text": [
      "/Users/george/Desktop/Anaconda/anaconda3/lib/python3.7/site-packages/numpy/lib/type_check.py:547: FutureWarning: `item` has been deprecated and will be removed in a future version\n",
      "  return a.item()\n"
     ]
    }
   ],
   "source": [
    "genHistory = recordedVs(2019, data = df_atp_Train, past = 4, includeYear=True)"
   ]
  },
  {
   "cell_type": "code",
   "execution_count": 87,
   "metadata": {},
   "outputs": [],
   "source": [
    "genHistoryTest = recordedVs(2019, data = df_atp_Train, past = 1, includeYear=True)"
   ]
  },
  {
   "cell_type": "markdown",
   "metadata": {},
   "source": [
    "History between Federer and Djokovic"
   ]
  },
  {
   "cell_type": "code",
   "execution_count": 89,
   "metadata": {},
   "outputs": [
    {
     "data": {
      "text/html": [
       "<div>\n",
       "<style scoped>\n",
       "    .dataframe tbody tr th:only-of-type {\n",
       "        vertical-align: middle;\n",
       "    }\n",
       "\n",
       "    .dataframe tbody tr th {\n",
       "        vertical-align: top;\n",
       "    }\n",
       "\n",
       "    .dataframe thead tr th {\n",
       "        text-align: left;\n",
       "    }\n",
       "</style>\n",
       "<table border=\"1\" class=\"dataframe\">\n",
       "  <thead>\n",
       "    <tr>\n",
       "      <th></th>\n",
       "      <th>Winner</th>\n",
       "      <th>Loser</th>\n",
       "      <th>CountWon</th>\n",
       "      <th>MeanBestOf</th>\n",
       "      <th>relativeVictory</th>\n",
       "    </tr>\n",
       "    <tr>\n",
       "      <th></th>\n",
       "      <th></th>\n",
       "      <th></th>\n",
       "      <th></th>\n",
       "      <th></th>\n",
       "      <th></th>\n",
       "    </tr>\n",
       "  </thead>\n",
       "  <tbody>\n",
       "    <tr>\n",
       "      <th>2330</th>\n",
       "      <td>Federer R.</td>\n",
       "      <td>Djokovic N.</td>\n",
       "      <td>3</td>\n",
       "      <td>3.0</td>\n",
       "      <td>0.272727</td>\n",
       "    </tr>\n",
       "  </tbody>\n",
       "</table>\n",
       "</div>"
      ],
      "text/plain": [
       "          Winner        Loser CountWon MeanBestOf relativeVictory\n",
       "                                                                 \n",
       "2330  Federer R.  Djokovic N.        3        3.0        0.272727"
      ]
     },
     "execution_count": 89,
     "metadata": {},
     "output_type": "execute_result"
    }
   ],
   "source": [
    "genHistory.loc[(genHistory.Winner == 'Federer R.')&(genHistory.Loser == 'Djokovic N.'),:]"
   ]
  },
  {
   "cell_type": "markdown",
   "metadata": {},
   "source": [
    "Now we can fill the values for the new features 'p1Vsp2' and 'Wp1Vsp2' based on the records in the 'genHistory' dataset."
   ]
  },
  {
   "cell_type": "code",
   "execution_count": 90,
   "metadata": {},
   "outputs": [],
   "source": [
    "df_atp_Train['p1Vsp2'] = 0\n",
    "df_atp_Train['Wp1Vsp2'] = 0"
   ]
  },
  {
   "cell_type": "code",
   "execution_count": 91,
   "metadata": {},
   "outputs": [],
   "source": [
    "def p1Vsp2(data, history = genHistory):\n",
    "\n",
    "    dataIndex = data.index\n",
    "    dataLenght = len(data)\n",
    "\n",
    "    for i in dataIndex:\n",
    "        p1 = data.loc[i,'Player1']\n",
    "        p2 = data.loc[i,'Player2']\n",
    "        relVict = history.loc[((history.Winner==p1) & (history.Loser==p2)),'relativeVictory' ]\n",
    "        relLoss = history.loc[((history.Winner==p2) & (history.Loser==p1)),'relativeVictory' ]\n",
    "        \n",
    "        if len(relVict)==0:\n",
    "            relVict = 0\n",
    "        else:\n",
    "            relVict = np.asscalar(relVict.values)\n",
    "        if len(relLoss)==0:\n",
    "            relLoss = 0  \n",
    "        else:\n",
    "            relLoss = np.asscalar(relLoss.values)\n",
    "         \n",
    "        MeanSetsW = history.loc[((history.Winner==p1) & (history.Loser==p2)),'MeanBestOf' ]\n",
    "        MeanSetsL = history.loc[((history.Loser==p1) & (history.Winner==p2)),'MeanBestOf' ]\n",
    "    \n",
    "        if len(MeanSetsW)==0:\n",
    "            MeanSetsW = 3\n",
    "        else:\n",
    "            MeanSetsW = np.asscalar(MeanSetsW.values)\n",
    "        if len(MeanSetsL)==0:\n",
    "            MeanSetsL = 3\n",
    "        else:\n",
    "            MeanSetsL = np.asscalar(MeanSetsL.values)\n",
    "        \n",
    "        WrelVict = relVict/MeanSetsW\n",
    "        LrelVict = relLoss/MeanSetsL\n",
    "    \n",
    "    \n",
    "        data.loc[i,'p1Vsp2'] = relVict - relLoss\n",
    "        data.loc[i,'Wp1Vsp2'] = WrelVict - LrelVict"
   ]
  },
  {
   "cell_type": "code",
   "execution_count": 92,
   "metadata": {},
   "outputs": [
    {
     "name": "stdout",
     "output_type": "stream",
     "text": [
      "Computations in progress 0.0%\n",
      "Computations in progress 10.0%\n",
      "Computations in progress 20.0%\n",
      "Computations in progress 30.0%\n",
      "Computations in progress 40.0%\n",
      "Computations in progress 50.0%\n",
      "Computations in progress 60.0%\n",
      "Computations in progress 70.0%\n",
      "Computations in progress 80.0%\n",
      "Computations in progress 90.0%\n",
      "Computations in progress 100.0%\n",
      "Done !\n"
     ]
    }
   ],
   "source": [
    "p1Vsp2(data = df_atp_Train, history = genHistory)\n",
    "#here I have done a computation progress just to make sure everything it's working ok but then I've deleted it"
   ]
  },
  {
   "cell_type": "code",
   "execution_count": 93,
   "metadata": {},
   "outputs": [
    {
     "data": {
      "text/html": [
       "<div>\n",
       "<style scoped>\n",
       "    .dataframe tbody tr th:only-of-type {\n",
       "        vertical-align: middle;\n",
       "    }\n",
       "\n",
       "    .dataframe tbody tr th {\n",
       "        vertical-align: top;\n",
       "    }\n",
       "\n",
       "    .dataframe thead th {\n",
       "        text-align: right;\n",
       "    }\n",
       "</style>\n",
       "<table border=\"1\" class=\"dataframe\">\n",
       "  <thead>\n",
       "    <tr style=\"text-align: right;\">\n",
       "      <th></th>\n",
       "      <th>Best of</th>\n",
       "      <th>Court</th>\n",
       "      <th>Date</th>\n",
       "      <th>LPts</th>\n",
       "      <th>LRank</th>\n",
       "      <th>Loser</th>\n",
       "      <th>Round</th>\n",
       "      <th>Series</th>\n",
       "      <th>Surface</th>\n",
       "      <th>Tournament</th>\n",
       "      <th>WPts</th>\n",
       "      <th>WRank</th>\n",
       "      <th>Winner</th>\n",
       "      <th>Player1</th>\n",
       "      <th>Player2</th>\n",
       "      <th>Won</th>\n",
       "      <th>Year</th>\n",
       "      <th>p1Vsp2</th>\n",
       "      <th>Wp1Vsp2</th>\n",
       "    </tr>\n",
       "  </thead>\n",
       "  <tbody>\n",
       "    <tr>\n",
       "      <th>0</th>\n",
       "      <td>3</td>\n",
       "      <td>Outdoor</td>\n",
       "      <td>2015-01-05</td>\n",
       "      <td>1730.0</td>\n",
       "      <td>21.0</td>\n",
       "      <td>Simon G.</td>\n",
       "      <td>1st Round</td>\n",
       "      <td>ATP250</td>\n",
       "      <td>Hard</td>\n",
       "      <td>Brisbane International</td>\n",
       "      <td>430.0</td>\n",
       "      <td>125.0</td>\n",
       "      <td>Duckworth J.</td>\n",
       "      <td>Simon G.</td>\n",
       "      <td>Duckworth J.</td>\n",
       "      <td>0</td>\n",
       "      <td>2015</td>\n",
       "      <td>-1.0</td>\n",
       "      <td>-0.333333</td>\n",
       "    </tr>\n",
       "    <tr>\n",
       "      <th>1</th>\n",
       "      <td>3</td>\n",
       "      <td>Outdoor</td>\n",
       "      <td>2015-01-05</td>\n",
       "      <td>1365.0</td>\n",
       "      <td>25.0</td>\n",
       "      <td>Benneteau J.</td>\n",
       "      <td>1st Round</td>\n",
       "      <td>ATP250</td>\n",
       "      <td>Hard</td>\n",
       "      <td>Brisbane International</td>\n",
       "      <td>341.0</td>\n",
       "      <td>149.0</td>\n",
       "      <td>Kokkinakis T.</td>\n",
       "      <td>Benneteau J.</td>\n",
       "      <td>Kokkinakis T.</td>\n",
       "      <td>0</td>\n",
       "      <td>2015</td>\n",
       "      <td>-1.0</td>\n",
       "      <td>-0.333333</td>\n",
       "    </tr>\n",
       "    <tr>\n",
       "      <th>2</th>\n",
       "      <td>3</td>\n",
       "      <td>Outdoor</td>\n",
       "      <td>2015-01-05</td>\n",
       "      <td>691.0</td>\n",
       "      <td>72.0</td>\n",
       "      <td>Golubev A.</td>\n",
       "      <td>1st Round</td>\n",
       "      <td>ATP250</td>\n",
       "      <td>Hard</td>\n",
       "      <td>Brisbane International</td>\n",
       "      <td>1195.0</td>\n",
       "      <td>31.0</td>\n",
       "      <td>Chardy J.</td>\n",
       "      <td>Golubev A.</td>\n",
       "      <td>Chardy J.</td>\n",
       "      <td>0</td>\n",
       "      <td>2015</td>\n",
       "      <td>-1.0</td>\n",
       "      <td>-0.333333</td>\n",
       "    </tr>\n",
       "    <tr>\n",
       "      <th>3</th>\n",
       "      <td>3</td>\n",
       "      <td>Outdoor</td>\n",
       "      <td>2015-01-05</td>\n",
       "      <td>1090.0</td>\n",
       "      <td>35.0</td>\n",
       "      <td>Querrey S.</td>\n",
       "      <td>1st Round</td>\n",
       "      <td>ATP250</td>\n",
       "      <td>Hard</td>\n",
       "      <td>Brisbane International</td>\n",
       "      <td>797.0</td>\n",
       "      <td>53.0</td>\n",
       "      <td>Tomic B.</td>\n",
       "      <td>Tomic B.</td>\n",
       "      <td>Querrey S.</td>\n",
       "      <td>1</td>\n",
       "      <td>2015</td>\n",
       "      <td>1.0</td>\n",
       "      <td>0.333333</td>\n",
       "    </tr>\n",
       "    <tr>\n",
       "      <th>4</th>\n",
       "      <td>3</td>\n",
       "      <td>Outdoor</td>\n",
       "      <td>2015-01-06</td>\n",
       "      <td>242.0</td>\n",
       "      <td>201.0</td>\n",
       "      <td>Copil M.</td>\n",
       "      <td>1st Round</td>\n",
       "      <td>ATP250</td>\n",
       "      <td>Hard</td>\n",
       "      <td>Brisbane International</td>\n",
       "      <td>705.0</td>\n",
       "      <td>69.0</td>\n",
       "      <td>Kukushkin M.</td>\n",
       "      <td>Kukushkin M.</td>\n",
       "      <td>Copil M.</td>\n",
       "      <td>1</td>\n",
       "      <td>2015</td>\n",
       "      <td>0.0</td>\n",
       "      <td>0.000000</td>\n",
       "    </tr>\n",
       "  </tbody>\n",
       "</table>\n",
       "</div>"
      ],
      "text/plain": [
       "   Best of    Court       Date    LPts  LRank         Loser      Round  \\\n",
       "0        3  Outdoor 2015-01-05  1730.0   21.0      Simon G.  1st Round   \n",
       "1        3  Outdoor 2015-01-05  1365.0   25.0  Benneteau J.  1st Round   \n",
       "2        3  Outdoor 2015-01-05   691.0   72.0    Golubev A.  1st Round   \n",
       "3        3  Outdoor 2015-01-05  1090.0   35.0    Querrey S.  1st Round   \n",
       "4        3  Outdoor 2015-01-06   242.0  201.0      Copil M.  1st Round   \n",
       "\n",
       "   Series Surface              Tournament    WPts  WRank         Winner  \\\n",
       "0  ATP250    Hard  Brisbane International   430.0  125.0   Duckworth J.   \n",
       "1  ATP250    Hard  Brisbane International   341.0  149.0  Kokkinakis T.   \n",
       "2  ATP250    Hard  Brisbane International  1195.0   31.0      Chardy J.   \n",
       "3  ATP250    Hard  Brisbane International   797.0   53.0       Tomic B.   \n",
       "4  ATP250    Hard  Brisbane International   705.0   69.0   Kukushkin M.   \n",
       "\n",
       "        Player1        Player2  Won  Year  p1Vsp2   Wp1Vsp2  \n",
       "0      Simon G.   Duckworth J.    0  2015    -1.0 -0.333333  \n",
       "1  Benneteau J.  Kokkinakis T.    0  2015    -1.0 -0.333333  \n",
       "2    Golubev A.      Chardy J.    0  2015    -1.0 -0.333333  \n",
       "3      Tomic B.     Querrey S.    1  2015     1.0  0.333333  \n",
       "4  Kukushkin M.       Copil M.    1  2015     0.0  0.000000  "
      ]
     },
     "execution_count": 93,
     "metadata": {},
     "output_type": "execute_result"
    }
   ],
   "source": [
    "df_atp_Train.head()"
   ]
  },
  {
   "cell_type": "code",
   "execution_count": 94,
   "metadata": {},
   "outputs": [],
   "source": [
    "df_atp_Test['p1Vsp2'] = 0\n",
    "df_atp_Test['Wp1Vsp2'] = 0"
   ]
  },
  {
   "cell_type": "code",
   "execution_count": 95,
   "metadata": {},
   "outputs": [
    {
     "name": "stdout",
     "output_type": "stream",
     "text": [
      "Computations in progress 0.0%\n",
      "Computations in progress 9.0%\n",
      "Computations in progress 19.0%\n",
      "Computations in progress 28.0%\n",
      "Computations in progress 38.0%\n",
      "Computations in progress 47.0%\n",
      "Computations in progress 57.0%\n",
      "Computations in progress 66.0%\n",
      "Computations in progress 76.0%\n",
      "Computations in progress 85.0%\n",
      "Computations in progress 94.0%\n",
      "Done !\n"
     ]
    }
   ],
   "source": [
    "p1Vsp2(data = df_atp_Test, history = genHistoryTest)"
   ]
  },
  {
   "cell_type": "code",
   "execution_count": 96,
   "metadata": {},
   "outputs": [
    {
     "data": {
      "text/html": [
       "<div>\n",
       "<style scoped>\n",
       "    .dataframe tbody tr th:only-of-type {\n",
       "        vertical-align: middle;\n",
       "    }\n",
       "\n",
       "    .dataframe tbody tr th {\n",
       "        vertical-align: top;\n",
       "    }\n",
       "\n",
       "    .dataframe thead th {\n",
       "        text-align: right;\n",
       "    }\n",
       "</style>\n",
       "<table border=\"1\" class=\"dataframe\">\n",
       "  <thead>\n",
       "    <tr style=\"text-align: right;\">\n",
       "      <th></th>\n",
       "      <th>Best of</th>\n",
       "      <th>Court</th>\n",
       "      <th>Date</th>\n",
       "      <th>LPts</th>\n",
       "      <th>LRank</th>\n",
       "      <th>Loser</th>\n",
       "      <th>Round</th>\n",
       "      <th>Series</th>\n",
       "      <th>Surface</th>\n",
       "      <th>Tournament</th>\n",
       "      <th>WPts</th>\n",
       "      <th>WRank</th>\n",
       "      <th>Winner</th>\n",
       "      <th>Player1</th>\n",
       "      <th>Player2</th>\n",
       "      <th>Won</th>\n",
       "      <th>Year</th>\n",
       "      <th>p1Vsp2</th>\n",
       "      <th>Wp1Vsp2</th>\n",
       "    </tr>\n",
       "  </thead>\n",
       "  <tbody>\n",
       "    <tr>\n",
       "      <th>10526</th>\n",
       "      <td>5</td>\n",
       "      <td>Outdoor</td>\n",
       "      <td>2019-01-14</td>\n",
       "      <td>1045.0</td>\n",
       "      <td>42.0</td>\n",
       "      <td>Mannarino A.</td>\n",
       "      <td>1st Round</td>\n",
       "      <td>Grand Slam</td>\n",
       "      <td>Hard</td>\n",
       "      <td>Australian Open</td>\n",
       "      <td>4810.0</td>\n",
       "      <td>6.0</td>\n",
       "      <td>Anderson K.</td>\n",
       "      <td>Anderson K.</td>\n",
       "      <td>Mannarino A.</td>\n",
       "      <td>1</td>\n",
       "      <td>2019</td>\n",
       "      <td>1.0</td>\n",
       "      <td>0.333333</td>\n",
       "    </tr>\n",
       "    <tr>\n",
       "      <th>10527</th>\n",
       "      <td>5</td>\n",
       "      <td>Outdoor</td>\n",
       "      <td>2019-01-14</td>\n",
       "      <td>312.0</td>\n",
       "      <td>170.0</td>\n",
       "      <td>Eubanks C.</td>\n",
       "      <td>1st Round</td>\n",
       "      <td>Grand Slam</td>\n",
       "      <td>Hard</td>\n",
       "      <td>Australian Open</td>\n",
       "      <td>1820.0</td>\n",
       "      <td>20.0</td>\n",
       "      <td>Basilashvili N.</td>\n",
       "      <td>Eubanks C.</td>\n",
       "      <td>Basilashvili N.</td>\n",
       "      <td>0</td>\n",
       "      <td>2019</td>\n",
       "      <td>0.0</td>\n",
       "      <td>0.000000</td>\n",
       "    </tr>\n",
       "    <tr>\n",
       "      <th>10528</th>\n",
       "      <td>5</td>\n",
       "      <td>Outdoor</td>\n",
       "      <td>2019-01-14</td>\n",
       "      <td>526.0</td>\n",
       "      <td>107.0</td>\n",
       "      <td>Mmoh M.</td>\n",
       "      <td>1st Round</td>\n",
       "      <td>Grand Slam</td>\n",
       "      <td>Hard</td>\n",
       "      <td>Australian Open</td>\n",
       "      <td>585.0</td>\n",
       "      <td>98.0</td>\n",
       "      <td>Albot R.</td>\n",
       "      <td>Albot R.</td>\n",
       "      <td>Mmoh M.</td>\n",
       "      <td>1</td>\n",
       "      <td>2019</td>\n",
       "      <td>0.0</td>\n",
       "      <td>0.000000</td>\n",
       "    </tr>\n",
       "    <tr>\n",
       "      <th>10529</th>\n",
       "      <td>5</td>\n",
       "      <td>Outdoor</td>\n",
       "      <td>2019-01-14</td>\n",
       "      <td>708.0</td>\n",
       "      <td>77.0</td>\n",
       "      <td>Andreozzi G.</td>\n",
       "      <td>1st Round</td>\n",
       "      <td>Grand Slam</td>\n",
       "      <td>Hard</td>\n",
       "      <td>Australian Open</td>\n",
       "      <td>401.0</td>\n",
       "      <td>137.0</td>\n",
       "      <td>Travaglia S.</td>\n",
       "      <td>Travaglia S.</td>\n",
       "      <td>Andreozzi G.</td>\n",
       "      <td>1</td>\n",
       "      <td>2019</td>\n",
       "      <td>0.0</td>\n",
       "      <td>0.000000</td>\n",
       "    </tr>\n",
       "    <tr>\n",
       "      <th>10530</th>\n",
       "      <td>5</td>\n",
       "      <td>Outdoor</td>\n",
       "      <td>2019-01-14</td>\n",
       "      <td>458.0</td>\n",
       "      <td>125.0</td>\n",
       "      <td>Kecmanovic M.</td>\n",
       "      <td>1st Round</td>\n",
       "      <td>Grand Slam</td>\n",
       "      <td>Hard</td>\n",
       "      <td>Australian Open</td>\n",
       "      <td>1410.0</td>\n",
       "      <td>28.0</td>\n",
       "      <td>Verdasco F.</td>\n",
       "      <td>Kecmanovic M.</td>\n",
       "      <td>Verdasco F.</td>\n",
       "      <td>0</td>\n",
       "      <td>2019</td>\n",
       "      <td>0.0</td>\n",
       "      <td>0.000000</td>\n",
       "    </tr>\n",
       "  </tbody>\n",
       "</table>\n",
       "</div>"
      ],
      "text/plain": [
       "       Best of    Court       Date    LPts  LRank          Loser      Round  \\\n",
       "10526        5  Outdoor 2019-01-14  1045.0   42.0   Mannarino A.  1st Round   \n",
       "10527        5  Outdoor 2019-01-14   312.0  170.0     Eubanks C.  1st Round   \n",
       "10528        5  Outdoor 2019-01-14   526.0  107.0        Mmoh M.  1st Round   \n",
       "10529        5  Outdoor 2019-01-14   708.0   77.0   Andreozzi G.  1st Round   \n",
       "10530        5  Outdoor 2019-01-14   458.0  125.0  Kecmanovic M.  1st Round   \n",
       "\n",
       "           Series Surface       Tournament    WPts  WRank           Winner  \\\n",
       "10526  Grand Slam    Hard  Australian Open  4810.0    6.0      Anderson K.   \n",
       "10527  Grand Slam    Hard  Australian Open  1820.0   20.0  Basilashvili N.   \n",
       "10528  Grand Slam    Hard  Australian Open   585.0   98.0         Albot R.   \n",
       "10529  Grand Slam    Hard  Australian Open   401.0  137.0     Travaglia S.   \n",
       "10530  Grand Slam    Hard  Australian Open  1410.0   28.0      Verdasco F.   \n",
       "\n",
       "             Player1          Player2  Won  Year  p1Vsp2   Wp1Vsp2  \n",
       "10526    Anderson K.     Mannarino A.    1  2019     1.0  0.333333  \n",
       "10527     Eubanks C.  Basilashvili N.    0  2019     0.0  0.000000  \n",
       "10528       Albot R.          Mmoh M.    1  2019     0.0  0.000000  \n",
       "10529   Travaglia S.     Andreozzi G.    1  2019     0.0  0.000000  \n",
       "10530  Kecmanovic M.      Verdasco F.    0  2019     0.0  0.000000  "
      ]
     },
     "execution_count": 96,
     "metadata": {},
     "output_type": "execute_result"
    }
   ],
   "source": [
    "df_atp_Test.head()"
   ]
  },
  {
   "cell_type": "markdown",
   "metadata": {},
   "source": [
    "#### Rank and Points differences (Player1 - Player2)    \n",
    "The two features we're going to introduce are simply the difference between players performances (Points and Ranks).  "
   ]
  },
  {
   "cell_type": "code",
   "execution_count": 97,
   "metadata": {},
   "outputs": [],
   "source": [
    "df_atp_Train[\"RankDiff\"] = 0\n",
    "df_atp_Train[\"PtsDiff\"] = 0"
   ]
  },
  {
   "cell_type": "code",
   "execution_count": 98,
   "metadata": {},
   "outputs": [],
   "source": [
    "def performanceDiff(variable = 'Rank', targetData=df_atp_Train):\n",
    "    if variable == 'Rank':\n",
    "        Wval, Lval = 'WRank', 'LRank'\n",
    "        target = \"RankDiff\"\n",
    "        differences = targetData[Lval]-targetData[Wval]\n",
    "    elif variable == 'Point':\n",
    "        Wval, Lval = 'WPts', 'LPts'\n",
    "        target = \"PtsDiff\"\n",
    "        differences = targetData[Wval]-targetData[Lval]\n",
    "    \n",
    "    targetData[target] = differences\n",
    "    wonInd1 = targetData['Won'] == 0\n",
    "    targetData.loc[wonInd1,target] = targetData.loc[wonInd1,target].apply(lambda x : -x)"
   ]
  },
  {
   "cell_type": "code",
   "execution_count": 99,
   "metadata": {},
   "outputs": [],
   "source": [
    "performanceDiff(variable='Rank', targetData=df_atp_Train)"
   ]
  },
  {
   "cell_type": "code",
   "execution_count": 100,
   "metadata": {},
   "outputs": [
    {
     "data": {
      "text/html": [
       "<div>\n",
       "<style scoped>\n",
       "    .dataframe tbody tr th:only-of-type {\n",
       "        vertical-align: middle;\n",
       "    }\n",
       "\n",
       "    .dataframe tbody tr th {\n",
       "        vertical-align: top;\n",
       "    }\n",
       "\n",
       "    .dataframe thead th {\n",
       "        text-align: right;\n",
       "    }\n",
       "</style>\n",
       "<table border=\"1\" class=\"dataframe\">\n",
       "  <thead>\n",
       "    <tr style=\"text-align: right;\">\n",
       "      <th></th>\n",
       "      <th>Best of</th>\n",
       "      <th>Court</th>\n",
       "      <th>Date</th>\n",
       "      <th>LPts</th>\n",
       "      <th>LRank</th>\n",
       "      <th>Loser</th>\n",
       "      <th>Round</th>\n",
       "      <th>Series</th>\n",
       "      <th>Surface</th>\n",
       "      <th>Tournament</th>\n",
       "      <th>...</th>\n",
       "      <th>WRank</th>\n",
       "      <th>Winner</th>\n",
       "      <th>Player1</th>\n",
       "      <th>Player2</th>\n",
       "      <th>Won</th>\n",
       "      <th>Year</th>\n",
       "      <th>p1Vsp2</th>\n",
       "      <th>Wp1Vsp2</th>\n",
       "      <th>RankDiff</th>\n",
       "      <th>PtsDiff</th>\n",
       "    </tr>\n",
       "  </thead>\n",
       "  <tbody>\n",
       "    <tr>\n",
       "      <th>0</th>\n",
       "      <td>3</td>\n",
       "      <td>Outdoor</td>\n",
       "      <td>2015-01-05</td>\n",
       "      <td>1730.0</td>\n",
       "      <td>21.0</td>\n",
       "      <td>Simon G.</td>\n",
       "      <td>1st Round</td>\n",
       "      <td>ATP250</td>\n",
       "      <td>Hard</td>\n",
       "      <td>Brisbane International</td>\n",
       "      <td>...</td>\n",
       "      <td>125.0</td>\n",
       "      <td>Duckworth J.</td>\n",
       "      <td>Simon G.</td>\n",
       "      <td>Duckworth J.</td>\n",
       "      <td>0</td>\n",
       "      <td>2015</td>\n",
       "      <td>-1.0</td>\n",
       "      <td>-0.333333</td>\n",
       "      <td>104.0</td>\n",
       "      <td>0</td>\n",
       "    </tr>\n",
       "    <tr>\n",
       "      <th>1</th>\n",
       "      <td>3</td>\n",
       "      <td>Outdoor</td>\n",
       "      <td>2015-01-05</td>\n",
       "      <td>1365.0</td>\n",
       "      <td>25.0</td>\n",
       "      <td>Benneteau J.</td>\n",
       "      <td>1st Round</td>\n",
       "      <td>ATP250</td>\n",
       "      <td>Hard</td>\n",
       "      <td>Brisbane International</td>\n",
       "      <td>...</td>\n",
       "      <td>149.0</td>\n",
       "      <td>Kokkinakis T.</td>\n",
       "      <td>Benneteau J.</td>\n",
       "      <td>Kokkinakis T.</td>\n",
       "      <td>0</td>\n",
       "      <td>2015</td>\n",
       "      <td>-1.0</td>\n",
       "      <td>-0.333333</td>\n",
       "      <td>124.0</td>\n",
       "      <td>0</td>\n",
       "    </tr>\n",
       "    <tr>\n",
       "      <th>2</th>\n",
       "      <td>3</td>\n",
       "      <td>Outdoor</td>\n",
       "      <td>2015-01-05</td>\n",
       "      <td>691.0</td>\n",
       "      <td>72.0</td>\n",
       "      <td>Golubev A.</td>\n",
       "      <td>1st Round</td>\n",
       "      <td>ATP250</td>\n",
       "      <td>Hard</td>\n",
       "      <td>Brisbane International</td>\n",
       "      <td>...</td>\n",
       "      <td>31.0</td>\n",
       "      <td>Chardy J.</td>\n",
       "      <td>Golubev A.</td>\n",
       "      <td>Chardy J.</td>\n",
       "      <td>0</td>\n",
       "      <td>2015</td>\n",
       "      <td>-1.0</td>\n",
       "      <td>-0.333333</td>\n",
       "      <td>-41.0</td>\n",
       "      <td>0</td>\n",
       "    </tr>\n",
       "    <tr>\n",
       "      <th>3</th>\n",
       "      <td>3</td>\n",
       "      <td>Outdoor</td>\n",
       "      <td>2015-01-05</td>\n",
       "      <td>1090.0</td>\n",
       "      <td>35.0</td>\n",
       "      <td>Querrey S.</td>\n",
       "      <td>1st Round</td>\n",
       "      <td>ATP250</td>\n",
       "      <td>Hard</td>\n",
       "      <td>Brisbane International</td>\n",
       "      <td>...</td>\n",
       "      <td>53.0</td>\n",
       "      <td>Tomic B.</td>\n",
       "      <td>Tomic B.</td>\n",
       "      <td>Querrey S.</td>\n",
       "      <td>1</td>\n",
       "      <td>2015</td>\n",
       "      <td>1.0</td>\n",
       "      <td>0.333333</td>\n",
       "      <td>-18.0</td>\n",
       "      <td>0</td>\n",
       "    </tr>\n",
       "    <tr>\n",
       "      <th>4</th>\n",
       "      <td>3</td>\n",
       "      <td>Outdoor</td>\n",
       "      <td>2015-01-06</td>\n",
       "      <td>242.0</td>\n",
       "      <td>201.0</td>\n",
       "      <td>Copil M.</td>\n",
       "      <td>1st Round</td>\n",
       "      <td>ATP250</td>\n",
       "      <td>Hard</td>\n",
       "      <td>Brisbane International</td>\n",
       "      <td>...</td>\n",
       "      <td>69.0</td>\n",
       "      <td>Kukushkin M.</td>\n",
       "      <td>Kukushkin M.</td>\n",
       "      <td>Copil M.</td>\n",
       "      <td>1</td>\n",
       "      <td>2015</td>\n",
       "      <td>0.0</td>\n",
       "      <td>0.000000</td>\n",
       "      <td>132.0</td>\n",
       "      <td>0</td>\n",
       "    </tr>\n",
       "  </tbody>\n",
       "</table>\n",
       "<p>5 rows × 21 columns</p>\n",
       "</div>"
      ],
      "text/plain": [
       "   Best of    Court       Date    LPts  LRank         Loser      Round  \\\n",
       "0        3  Outdoor 2015-01-05  1730.0   21.0      Simon G.  1st Round   \n",
       "1        3  Outdoor 2015-01-05  1365.0   25.0  Benneteau J.  1st Round   \n",
       "2        3  Outdoor 2015-01-05   691.0   72.0    Golubev A.  1st Round   \n",
       "3        3  Outdoor 2015-01-05  1090.0   35.0    Querrey S.  1st Round   \n",
       "4        3  Outdoor 2015-01-06   242.0  201.0      Copil M.  1st Round   \n",
       "\n",
       "   Series Surface              Tournament  ...  WRank         Winner  \\\n",
       "0  ATP250    Hard  Brisbane International  ...  125.0   Duckworth J.   \n",
       "1  ATP250    Hard  Brisbane International  ...  149.0  Kokkinakis T.   \n",
       "2  ATP250    Hard  Brisbane International  ...   31.0      Chardy J.   \n",
       "3  ATP250    Hard  Brisbane International  ...   53.0       Tomic B.   \n",
       "4  ATP250    Hard  Brisbane International  ...   69.0   Kukushkin M.   \n",
       "\n",
       "        Player1        Player2 Won  Year  p1Vsp2   Wp1Vsp2  RankDiff  PtsDiff  \n",
       "0      Simon G.   Duckworth J.   0  2015    -1.0 -0.333333     104.0        0  \n",
       "1  Benneteau J.  Kokkinakis T.   0  2015    -1.0 -0.333333     124.0        0  \n",
       "2    Golubev A.      Chardy J.   0  2015    -1.0 -0.333333     -41.0        0  \n",
       "3      Tomic B.     Querrey S.   1  2015     1.0  0.333333     -18.0        0  \n",
       "4  Kukushkin M.       Copil M.   1  2015     0.0  0.000000     132.0        0  \n",
       "\n",
       "[5 rows x 21 columns]"
      ]
     },
     "execution_count": 100,
     "metadata": {},
     "output_type": "execute_result"
    }
   ],
   "source": [
    "df_atp_Train.head()"
   ]
  },
  {
   "cell_type": "code",
   "execution_count": 101,
   "metadata": {},
   "outputs": [],
   "source": [
    "performanceDiff(variable='Point', targetData=df_atp_Train)"
   ]
  },
  {
   "cell_type": "code",
   "execution_count": 102,
   "metadata": {},
   "outputs": [
    {
     "data": {
      "text/html": [
       "<div>\n",
       "<style scoped>\n",
       "    .dataframe tbody tr th:only-of-type {\n",
       "        vertical-align: middle;\n",
       "    }\n",
       "\n",
       "    .dataframe tbody tr th {\n",
       "        vertical-align: top;\n",
       "    }\n",
       "\n",
       "    .dataframe thead th {\n",
       "        text-align: right;\n",
       "    }\n",
       "</style>\n",
       "<table border=\"1\" class=\"dataframe\">\n",
       "  <thead>\n",
       "    <tr style=\"text-align: right;\">\n",
       "      <th></th>\n",
       "      <th>Best of</th>\n",
       "      <th>Court</th>\n",
       "      <th>Date</th>\n",
       "      <th>LPts</th>\n",
       "      <th>LRank</th>\n",
       "      <th>Loser</th>\n",
       "      <th>Round</th>\n",
       "      <th>Series</th>\n",
       "      <th>Surface</th>\n",
       "      <th>Tournament</th>\n",
       "      <th>...</th>\n",
       "      <th>WRank</th>\n",
       "      <th>Winner</th>\n",
       "      <th>Player1</th>\n",
       "      <th>Player2</th>\n",
       "      <th>Won</th>\n",
       "      <th>Year</th>\n",
       "      <th>p1Vsp2</th>\n",
       "      <th>Wp1Vsp2</th>\n",
       "      <th>RankDiff</th>\n",
       "      <th>PtsDiff</th>\n",
       "    </tr>\n",
       "  </thead>\n",
       "  <tbody>\n",
       "    <tr>\n",
       "      <th>0</th>\n",
       "      <td>3</td>\n",
       "      <td>Outdoor</td>\n",
       "      <td>2015-01-05</td>\n",
       "      <td>1730.0</td>\n",
       "      <td>21.0</td>\n",
       "      <td>Simon G.</td>\n",
       "      <td>1st Round</td>\n",
       "      <td>ATP250</td>\n",
       "      <td>Hard</td>\n",
       "      <td>Brisbane International</td>\n",
       "      <td>...</td>\n",
       "      <td>125.0</td>\n",
       "      <td>Duckworth J.</td>\n",
       "      <td>Simon G.</td>\n",
       "      <td>Duckworth J.</td>\n",
       "      <td>0</td>\n",
       "      <td>2015</td>\n",
       "      <td>-1.0</td>\n",
       "      <td>-0.333333</td>\n",
       "      <td>104.0</td>\n",
       "      <td>1300.0</td>\n",
       "    </tr>\n",
       "    <tr>\n",
       "      <th>1</th>\n",
       "      <td>3</td>\n",
       "      <td>Outdoor</td>\n",
       "      <td>2015-01-05</td>\n",
       "      <td>1365.0</td>\n",
       "      <td>25.0</td>\n",
       "      <td>Benneteau J.</td>\n",
       "      <td>1st Round</td>\n",
       "      <td>ATP250</td>\n",
       "      <td>Hard</td>\n",
       "      <td>Brisbane International</td>\n",
       "      <td>...</td>\n",
       "      <td>149.0</td>\n",
       "      <td>Kokkinakis T.</td>\n",
       "      <td>Benneteau J.</td>\n",
       "      <td>Kokkinakis T.</td>\n",
       "      <td>0</td>\n",
       "      <td>2015</td>\n",
       "      <td>-1.0</td>\n",
       "      <td>-0.333333</td>\n",
       "      <td>124.0</td>\n",
       "      <td>1024.0</td>\n",
       "    </tr>\n",
       "    <tr>\n",
       "      <th>2</th>\n",
       "      <td>3</td>\n",
       "      <td>Outdoor</td>\n",
       "      <td>2015-01-05</td>\n",
       "      <td>691.0</td>\n",
       "      <td>72.0</td>\n",
       "      <td>Golubev A.</td>\n",
       "      <td>1st Round</td>\n",
       "      <td>ATP250</td>\n",
       "      <td>Hard</td>\n",
       "      <td>Brisbane International</td>\n",
       "      <td>...</td>\n",
       "      <td>31.0</td>\n",
       "      <td>Chardy J.</td>\n",
       "      <td>Golubev A.</td>\n",
       "      <td>Chardy J.</td>\n",
       "      <td>0</td>\n",
       "      <td>2015</td>\n",
       "      <td>-1.0</td>\n",
       "      <td>-0.333333</td>\n",
       "      <td>-41.0</td>\n",
       "      <td>-504.0</td>\n",
       "    </tr>\n",
       "    <tr>\n",
       "      <th>3</th>\n",
       "      <td>3</td>\n",
       "      <td>Outdoor</td>\n",
       "      <td>2015-01-05</td>\n",
       "      <td>1090.0</td>\n",
       "      <td>35.0</td>\n",
       "      <td>Querrey S.</td>\n",
       "      <td>1st Round</td>\n",
       "      <td>ATP250</td>\n",
       "      <td>Hard</td>\n",
       "      <td>Brisbane International</td>\n",
       "      <td>...</td>\n",
       "      <td>53.0</td>\n",
       "      <td>Tomic B.</td>\n",
       "      <td>Tomic B.</td>\n",
       "      <td>Querrey S.</td>\n",
       "      <td>1</td>\n",
       "      <td>2015</td>\n",
       "      <td>1.0</td>\n",
       "      <td>0.333333</td>\n",
       "      <td>-18.0</td>\n",
       "      <td>-293.0</td>\n",
       "    </tr>\n",
       "    <tr>\n",
       "      <th>4</th>\n",
       "      <td>3</td>\n",
       "      <td>Outdoor</td>\n",
       "      <td>2015-01-06</td>\n",
       "      <td>242.0</td>\n",
       "      <td>201.0</td>\n",
       "      <td>Copil M.</td>\n",
       "      <td>1st Round</td>\n",
       "      <td>ATP250</td>\n",
       "      <td>Hard</td>\n",
       "      <td>Brisbane International</td>\n",
       "      <td>...</td>\n",
       "      <td>69.0</td>\n",
       "      <td>Kukushkin M.</td>\n",
       "      <td>Kukushkin M.</td>\n",
       "      <td>Copil M.</td>\n",
       "      <td>1</td>\n",
       "      <td>2015</td>\n",
       "      <td>0.0</td>\n",
       "      <td>0.000000</td>\n",
       "      <td>132.0</td>\n",
       "      <td>463.0</td>\n",
       "    </tr>\n",
       "  </tbody>\n",
       "</table>\n",
       "<p>5 rows × 21 columns</p>\n",
       "</div>"
      ],
      "text/plain": [
       "   Best of    Court       Date    LPts  LRank         Loser      Round  \\\n",
       "0        3  Outdoor 2015-01-05  1730.0   21.0      Simon G.  1st Round   \n",
       "1        3  Outdoor 2015-01-05  1365.0   25.0  Benneteau J.  1st Round   \n",
       "2        3  Outdoor 2015-01-05   691.0   72.0    Golubev A.  1st Round   \n",
       "3        3  Outdoor 2015-01-05  1090.0   35.0    Querrey S.  1st Round   \n",
       "4        3  Outdoor 2015-01-06   242.0  201.0      Copil M.  1st Round   \n",
       "\n",
       "   Series Surface              Tournament  ...  WRank         Winner  \\\n",
       "0  ATP250    Hard  Brisbane International  ...  125.0   Duckworth J.   \n",
       "1  ATP250    Hard  Brisbane International  ...  149.0  Kokkinakis T.   \n",
       "2  ATP250    Hard  Brisbane International  ...   31.0      Chardy J.   \n",
       "3  ATP250    Hard  Brisbane International  ...   53.0       Tomic B.   \n",
       "4  ATP250    Hard  Brisbane International  ...   69.0   Kukushkin M.   \n",
       "\n",
       "        Player1        Player2 Won  Year  p1Vsp2   Wp1Vsp2  RankDiff  PtsDiff  \n",
       "0      Simon G.   Duckworth J.   0  2015    -1.0 -0.333333     104.0   1300.0  \n",
       "1  Benneteau J.  Kokkinakis T.   0  2015    -1.0 -0.333333     124.0   1024.0  \n",
       "2    Golubev A.      Chardy J.   0  2015    -1.0 -0.333333     -41.0   -504.0  \n",
       "3      Tomic B.     Querrey S.   1  2015     1.0  0.333333     -18.0   -293.0  \n",
       "4  Kukushkin M.       Copil M.   1  2015     0.0  0.000000     132.0    463.0  \n",
       "\n",
       "[5 rows x 21 columns]"
      ]
     },
     "execution_count": 102,
     "metadata": {},
     "output_type": "execute_result"
    }
   ],
   "source": [
    "df_atp_Train.head()"
   ]
  },
  {
   "cell_type": "markdown",
   "metadata": {},
   "source": [
    "We do the same thing for the test set."
   ]
  },
  {
   "cell_type": "code",
   "execution_count": 103,
   "metadata": {},
   "outputs": [],
   "source": [
    "df_atp_Test[\"RankDiff\"] = 0\n",
    "df_atp_Test[\"PtsDiff\"] = 0"
   ]
  },
  {
   "cell_type": "code",
   "execution_count": 104,
   "metadata": {},
   "outputs": [],
   "source": [
    "performanceDiff(variable='Rank', targetData=df_atp_Test)\n",
    "performanceDiff(variable='Point', targetData=df_atp_Test)"
   ]
  },
  {
   "cell_type": "code",
   "execution_count": 105,
   "metadata": {},
   "outputs": [
    {
     "data": {
      "text/html": [
       "<div>\n",
       "<style scoped>\n",
       "    .dataframe tbody tr th:only-of-type {\n",
       "        vertical-align: middle;\n",
       "    }\n",
       "\n",
       "    .dataframe tbody tr th {\n",
       "        vertical-align: top;\n",
       "    }\n",
       "\n",
       "    .dataframe thead th {\n",
       "        text-align: right;\n",
       "    }\n",
       "</style>\n",
       "<table border=\"1\" class=\"dataframe\">\n",
       "  <thead>\n",
       "    <tr style=\"text-align: right;\">\n",
       "      <th></th>\n",
       "      <th>Best of</th>\n",
       "      <th>Court</th>\n",
       "      <th>Date</th>\n",
       "      <th>LPts</th>\n",
       "      <th>LRank</th>\n",
       "      <th>Loser</th>\n",
       "      <th>Round</th>\n",
       "      <th>Series</th>\n",
       "      <th>Surface</th>\n",
       "      <th>Tournament</th>\n",
       "      <th>...</th>\n",
       "      <th>WRank</th>\n",
       "      <th>Winner</th>\n",
       "      <th>Player1</th>\n",
       "      <th>Player2</th>\n",
       "      <th>Won</th>\n",
       "      <th>Year</th>\n",
       "      <th>p1Vsp2</th>\n",
       "      <th>Wp1Vsp2</th>\n",
       "      <th>RankDiff</th>\n",
       "      <th>PtsDiff</th>\n",
       "    </tr>\n",
       "  </thead>\n",
       "  <tbody>\n",
       "    <tr>\n",
       "      <th>10526</th>\n",
       "      <td>5</td>\n",
       "      <td>Outdoor</td>\n",
       "      <td>2019-01-14</td>\n",
       "      <td>1045.0</td>\n",
       "      <td>42.0</td>\n",
       "      <td>Mannarino A.</td>\n",
       "      <td>1st Round</td>\n",
       "      <td>Grand Slam</td>\n",
       "      <td>Hard</td>\n",
       "      <td>Australian Open</td>\n",
       "      <td>...</td>\n",
       "      <td>6.0</td>\n",
       "      <td>Anderson K.</td>\n",
       "      <td>Anderson K.</td>\n",
       "      <td>Mannarino A.</td>\n",
       "      <td>1</td>\n",
       "      <td>2019</td>\n",
       "      <td>1.0</td>\n",
       "      <td>0.333333</td>\n",
       "      <td>36.0</td>\n",
       "      <td>3765.0</td>\n",
       "    </tr>\n",
       "    <tr>\n",
       "      <th>10527</th>\n",
       "      <td>5</td>\n",
       "      <td>Outdoor</td>\n",
       "      <td>2019-01-14</td>\n",
       "      <td>312.0</td>\n",
       "      <td>170.0</td>\n",
       "      <td>Eubanks C.</td>\n",
       "      <td>1st Round</td>\n",
       "      <td>Grand Slam</td>\n",
       "      <td>Hard</td>\n",
       "      <td>Australian Open</td>\n",
       "      <td>...</td>\n",
       "      <td>20.0</td>\n",
       "      <td>Basilashvili N.</td>\n",
       "      <td>Eubanks C.</td>\n",
       "      <td>Basilashvili N.</td>\n",
       "      <td>0</td>\n",
       "      <td>2019</td>\n",
       "      <td>0.0</td>\n",
       "      <td>0.000000</td>\n",
       "      <td>-150.0</td>\n",
       "      <td>-1508.0</td>\n",
       "    </tr>\n",
       "    <tr>\n",
       "      <th>10528</th>\n",
       "      <td>5</td>\n",
       "      <td>Outdoor</td>\n",
       "      <td>2019-01-14</td>\n",
       "      <td>526.0</td>\n",
       "      <td>107.0</td>\n",
       "      <td>Mmoh M.</td>\n",
       "      <td>1st Round</td>\n",
       "      <td>Grand Slam</td>\n",
       "      <td>Hard</td>\n",
       "      <td>Australian Open</td>\n",
       "      <td>...</td>\n",
       "      <td>98.0</td>\n",
       "      <td>Albot R.</td>\n",
       "      <td>Albot R.</td>\n",
       "      <td>Mmoh M.</td>\n",
       "      <td>1</td>\n",
       "      <td>2019</td>\n",
       "      <td>0.0</td>\n",
       "      <td>0.000000</td>\n",
       "      <td>9.0</td>\n",
       "      <td>59.0</td>\n",
       "    </tr>\n",
       "    <tr>\n",
       "      <th>10529</th>\n",
       "      <td>5</td>\n",
       "      <td>Outdoor</td>\n",
       "      <td>2019-01-14</td>\n",
       "      <td>708.0</td>\n",
       "      <td>77.0</td>\n",
       "      <td>Andreozzi G.</td>\n",
       "      <td>1st Round</td>\n",
       "      <td>Grand Slam</td>\n",
       "      <td>Hard</td>\n",
       "      <td>Australian Open</td>\n",
       "      <td>...</td>\n",
       "      <td>137.0</td>\n",
       "      <td>Travaglia S.</td>\n",
       "      <td>Travaglia S.</td>\n",
       "      <td>Andreozzi G.</td>\n",
       "      <td>1</td>\n",
       "      <td>2019</td>\n",
       "      <td>0.0</td>\n",
       "      <td>0.000000</td>\n",
       "      <td>-60.0</td>\n",
       "      <td>-307.0</td>\n",
       "    </tr>\n",
       "    <tr>\n",
       "      <th>10530</th>\n",
       "      <td>5</td>\n",
       "      <td>Outdoor</td>\n",
       "      <td>2019-01-14</td>\n",
       "      <td>458.0</td>\n",
       "      <td>125.0</td>\n",
       "      <td>Kecmanovic M.</td>\n",
       "      <td>1st Round</td>\n",
       "      <td>Grand Slam</td>\n",
       "      <td>Hard</td>\n",
       "      <td>Australian Open</td>\n",
       "      <td>...</td>\n",
       "      <td>28.0</td>\n",
       "      <td>Verdasco F.</td>\n",
       "      <td>Kecmanovic M.</td>\n",
       "      <td>Verdasco F.</td>\n",
       "      <td>0</td>\n",
       "      <td>2019</td>\n",
       "      <td>0.0</td>\n",
       "      <td>0.000000</td>\n",
       "      <td>-97.0</td>\n",
       "      <td>-952.0</td>\n",
       "    </tr>\n",
       "  </tbody>\n",
       "</table>\n",
       "<p>5 rows × 21 columns</p>\n",
       "</div>"
      ],
      "text/plain": [
       "       Best of    Court       Date    LPts  LRank          Loser      Round  \\\n",
       "10526        5  Outdoor 2019-01-14  1045.0   42.0   Mannarino A.  1st Round   \n",
       "10527        5  Outdoor 2019-01-14   312.0  170.0     Eubanks C.  1st Round   \n",
       "10528        5  Outdoor 2019-01-14   526.0  107.0        Mmoh M.  1st Round   \n",
       "10529        5  Outdoor 2019-01-14   708.0   77.0   Andreozzi G.  1st Round   \n",
       "10530        5  Outdoor 2019-01-14   458.0  125.0  Kecmanovic M.  1st Round   \n",
       "\n",
       "           Series Surface       Tournament  ...  WRank           Winner  \\\n",
       "10526  Grand Slam    Hard  Australian Open  ...    6.0      Anderson K.   \n",
       "10527  Grand Slam    Hard  Australian Open  ...   20.0  Basilashvili N.   \n",
       "10528  Grand Slam    Hard  Australian Open  ...   98.0         Albot R.   \n",
       "10529  Grand Slam    Hard  Australian Open  ...  137.0     Travaglia S.   \n",
       "10530  Grand Slam    Hard  Australian Open  ...   28.0      Verdasco F.   \n",
       "\n",
       "             Player1          Player2 Won  Year  p1Vsp2   Wp1Vsp2  RankDiff  \\\n",
       "10526    Anderson K.     Mannarino A.   1  2019     1.0  0.333333      36.0   \n",
       "10527     Eubanks C.  Basilashvili N.   0  2019     0.0  0.000000    -150.0   \n",
       "10528       Albot R.          Mmoh M.   1  2019     0.0  0.000000       9.0   \n",
       "10529   Travaglia S.     Andreozzi G.   1  2019     0.0  0.000000     -60.0   \n",
       "10530  Kecmanovic M.      Verdasco F.   0  2019     0.0  0.000000     -97.0   \n",
       "\n",
       "       PtsDiff  \n",
       "10526   3765.0  \n",
       "10527  -1508.0  \n",
       "10528     59.0  \n",
       "10529   -307.0  \n",
       "10530   -952.0  \n",
       "\n",
       "[5 rows x 21 columns]"
      ]
     },
     "execution_count": 105,
     "metadata": {},
     "output_type": "execute_result"
    }
   ],
   "source": [
    "df_atp_Test.head()\n",
    "#here we have the dataframe updated with the points and rank difference"
   ]
  },
  {
   "cell_type": "markdown",
   "metadata": {},
   "source": [
    "#### Per Round type winning percentage  "
   ]
  },
  {
   "cell_type": "code",
   "execution_count": 106,
   "metadata": {},
   "outputs": [],
   "source": [
    "#Now we have to check how important is the round in which the players are playing \n",
    "uniquePlayers =df_atp_Train.loc[:,['Winner','Loser']].unstack().unique()"
   ]
  },
  {
   "cell_type": "code",
   "execution_count": 107,
   "metadata": {},
   "outputs": [],
   "source": [
    "df_Unique_Players = pd.DataFrame({'Player':uniquePlayers,'FirstRounds':0, \n",
    "                                  'Quarterfinals':0, 'Semifinals': 0, 'Final':0,\n",
    "                                 'WeightedSum':0})\n",
    "genSerie = pd.Series({'1st Round':0, '2nd Round': 0, '3rd Round':0, '4th Round':0,'Quarterfinals':0,\n",
    "          'Semifinals':0,'The Final':0 })"
   ]
  },
  {
   "cell_type": "code",
   "execution_count": 108,
   "metadata": {},
   "outputs": [
    {
     "data": {
      "text/html": [
       "<div>\n",
       "<style scoped>\n",
       "    .dataframe tbody tr th:only-of-type {\n",
       "        vertical-align: middle;\n",
       "    }\n",
       "\n",
       "    .dataframe tbody tr th {\n",
       "        vertical-align: top;\n",
       "    }\n",
       "\n",
       "    .dataframe thead th {\n",
       "        text-align: right;\n",
       "    }\n",
       "</style>\n",
       "<table border=\"1\" class=\"dataframe\">\n",
       "  <thead>\n",
       "    <tr style=\"text-align: right;\">\n",
       "      <th></th>\n",
       "      <th>Player</th>\n",
       "      <th>FirstRounds</th>\n",
       "      <th>Quarterfinals</th>\n",
       "      <th>Semifinals</th>\n",
       "      <th>Final</th>\n",
       "      <th>WeightedSum</th>\n",
       "    </tr>\n",
       "  </thead>\n",
       "  <tbody>\n",
       "    <tr>\n",
       "      <th>0</th>\n",
       "      <td>Duckworth J.</td>\n",
       "      <td>0</td>\n",
       "      <td>0</td>\n",
       "      <td>0</td>\n",
       "      <td>0</td>\n",
       "      <td>0</td>\n",
       "    </tr>\n",
       "    <tr>\n",
       "      <th>1</th>\n",
       "      <td>Kokkinakis T.</td>\n",
       "      <td>0</td>\n",
       "      <td>0</td>\n",
       "      <td>0</td>\n",
       "      <td>0</td>\n",
       "      <td>0</td>\n",
       "    </tr>\n",
       "    <tr>\n",
       "      <th>2</th>\n",
       "      <td>Chardy J.</td>\n",
       "      <td>0</td>\n",
       "      <td>0</td>\n",
       "      <td>0</td>\n",
       "      <td>0</td>\n",
       "      <td>0</td>\n",
       "    </tr>\n",
       "    <tr>\n",
       "      <th>3</th>\n",
       "      <td>Tomic B.</td>\n",
       "      <td>0</td>\n",
       "      <td>0</td>\n",
       "      <td>0</td>\n",
       "      <td>0</td>\n",
       "      <td>0</td>\n",
       "    </tr>\n",
       "    <tr>\n",
       "      <th>4</th>\n",
       "      <td>Kukushkin M.</td>\n",
       "      <td>0</td>\n",
       "      <td>0</td>\n",
       "      <td>0</td>\n",
       "      <td>0</td>\n",
       "      <td>0</td>\n",
       "    </tr>\n",
       "  </tbody>\n",
       "</table>\n",
       "</div>"
      ],
      "text/plain": [
       "          Player  FirstRounds  Quarterfinals  Semifinals  Final  WeightedSum\n",
       "0   Duckworth J.            0              0           0      0            0\n",
       "1  Kokkinakis T.            0              0           0      0            0\n",
       "2      Chardy J.            0              0           0      0            0\n",
       "3       Tomic B.            0              0           0      0            0\n",
       "4   Kukushkin M.            0              0           0      0            0"
      ]
     },
     "execution_count": 108,
     "metadata": {},
     "output_type": "execute_result"
    }
   ],
   "source": [
    "df_Unique_Players.head()"
   ]
  },
  {
   "cell_type": "code",
   "execution_count": 109,
   "metadata": {},
   "outputs": [],
   "source": [
    "def roundWin(data = df_atp_Train, genSerie = genSerie, targetData = df_Unique_Players, inplace = True):\n",
    "\n",
    "    progress = 0\n",
    "    playersLen = len(targetData)\n",
    "    tenPer, per = playersLen//10, 0\n",
    "    \n",
    "    roundWeights = np.array([0.1,0.2,0.3,0.4,0.6,0,0.7,0.9]) \n",
    "    \n",
    "    for i, player in enumerate(targetData['Player']):\n",
    "        resultSerie = genSerie.copy()\n",
    "        playerW = data.loc[data['Winner']==player,'Round']\n",
    "        playerL = data.loc[data['Loser']==player,'Round']\n",
    "        \n",
    "        perRoundVictories = playerW.value_counts()\n",
    "        perRoundLosses = playerL.value_counts()\n",
    "        \n",
    "        totalResults = perRoundVictories+perRoundLosses\n",
    "        victoryFractions = perRoundVictories/totalResults\n",
    "        \n",
    "        resultSerie[victoryFractions.keys()] = victoryFractions\n",
    "        resultSerie[resultSerie.isna()] = 0\n",
    "        \n",
    "        FirstRounds = np.mean(resultSerie[0:4].values)    \n",
    "        Quarterfinals = resultSerie['Quarterfinals']     \n",
    "        Semifinals = resultSerie['Semifinals']            \n",
    "        Final = resultSerie['The Final']                \n",
    "        \n",
    "        weightedVals = np.sum(roundWeights * resultSerie.values) \n",
    "        \n",
    "        targetData.loc[i,'FirstRounds'] = FirstRounds\n",
    "        targetData.loc[i,'Quarterfinals'] = Quarterfinals\n",
    "        targetData.loc[i,'Semifinals'] = Semifinals\n",
    "        targetData.loc[i,'Final'] = Final\n",
    "        targetData.loc[i,'WeightedSum'] = weightedVals"
   ]
  },
  {
   "cell_type": "code",
   "execution_count": 110,
   "metadata": {},
   "outputs": [
    {
     "name": "stdout",
     "output_type": "stream",
     "text": [
      "Computations in progress 0.0%\n",
      "Computations in progress 10.0%\n",
      "Computations in progress 20.0%\n",
      "Computations in progress 30.0%\n",
      "Computations in progress 39.0%\n",
      "Computations in progress 49.0%\n",
      "Computations in progress 59.0%\n",
      "Computations in progress 69.0%\n",
      "Computations in progress 79.0%\n",
      "Computations in progress 89.0%\n",
      "Computations in progress 98.0%\n",
      "Done !\n"
     ]
    }
   ],
   "source": [
    "roundWin(data = df_atp_Train, genSerie = genSerie, targetData = df_Unique_Players, inplace=True)"
   ]
  },
  {
   "cell_type": "code",
   "execution_count": 111,
   "metadata": {},
   "outputs": [
    {
     "data": {
      "text/html": [
       "<div>\n",
       "<style scoped>\n",
       "    .dataframe tbody tr th:only-of-type {\n",
       "        vertical-align: middle;\n",
       "    }\n",
       "\n",
       "    .dataframe tbody tr th {\n",
       "        vertical-align: top;\n",
       "    }\n",
       "\n",
       "    .dataframe thead th {\n",
       "        text-align: right;\n",
       "    }\n",
       "</style>\n",
       "<table border=\"1\" class=\"dataframe\">\n",
       "  <thead>\n",
       "    <tr style=\"text-align: right;\">\n",
       "      <th></th>\n",
       "      <th>Player</th>\n",
       "      <th>FirstRounds</th>\n",
       "      <th>Quarterfinals</th>\n",
       "      <th>Semifinals</th>\n",
       "      <th>Final</th>\n",
       "      <th>WeightedSum</th>\n",
       "    </tr>\n",
       "  </thead>\n",
       "  <tbody>\n",
       "    <tr>\n",
       "      <th>0</th>\n",
       "      <td>Duckworth J.</td>\n",
       "      <td>0.177885</td>\n",
       "      <td>0.000000</td>\n",
       "      <td>0.000000</td>\n",
       "      <td>0.000000</td>\n",
       "      <td>0.096154</td>\n",
       "    </tr>\n",
       "    <tr>\n",
       "      <th>1</th>\n",
       "      <td>Kokkinakis T.</td>\n",
       "      <td>0.268590</td>\n",
       "      <td>0.000000</td>\n",
       "      <td>0.000000</td>\n",
       "      <td>0.000000</td>\n",
       "      <td>0.204872</td>\n",
       "    </tr>\n",
       "    <tr>\n",
       "      <th>2</th>\n",
       "      <td>Chardy J.</td>\n",
       "      <td>0.376305</td>\n",
       "      <td>0.307692</td>\n",
       "      <td>0.250000</td>\n",
       "      <td>0.000000</td>\n",
       "      <td>0.646804</td>\n",
       "    </tr>\n",
       "    <tr>\n",
       "      <th>3</th>\n",
       "      <td>Tomic B.</td>\n",
       "      <td>0.465216</td>\n",
       "      <td>0.333333</td>\n",
       "      <td>0.428571</td>\n",
       "      <td>0.666667</td>\n",
       "      <td>1.513467</td>\n",
       "    </tr>\n",
       "    <tr>\n",
       "      <th>4</th>\n",
       "      <td>Kukushkin M.</td>\n",
       "      <td>0.201623</td>\n",
       "      <td>0.500000</td>\n",
       "      <td>0.250000</td>\n",
       "      <td>0.000000</td>\n",
       "      <td>0.585649</td>\n",
       "    </tr>\n",
       "  </tbody>\n",
       "</table>\n",
       "</div>"
      ],
      "text/plain": [
       "          Player  FirstRounds  Quarterfinals  Semifinals     Final  \\\n",
       "0   Duckworth J.     0.177885       0.000000    0.000000  0.000000   \n",
       "1  Kokkinakis T.     0.268590       0.000000    0.000000  0.000000   \n",
       "2      Chardy J.     0.376305       0.307692    0.250000  0.000000   \n",
       "3       Tomic B.     0.465216       0.333333    0.428571  0.666667   \n",
       "4   Kukushkin M.     0.201623       0.500000    0.250000  0.000000   \n",
       "\n",
       "   WeightedSum  \n",
       "0     0.096154  \n",
       "1     0.204872  \n",
       "2     0.646804  \n",
       "3     1.513467  \n",
       "4     0.585649  "
      ]
     },
     "execution_count": 111,
     "metadata": {},
     "output_type": "execute_result"
    }
   ],
   "source": [
    "df_Unique_Players.head()"
   ]
  },
  {
   "cell_type": "code",
   "execution_count": 112,
   "metadata": {},
   "outputs": [],
   "source": [
    "df_atp_Train['WeightedRndDiff'] = 0   #Depends only on the the two players\n",
    "df_atp_Train['RoundDiff'] = 0         #depends on the two players + the round of the match"
   ]
  },
  {
   "cell_type": "code",
   "execution_count": 113,
   "metadata": {},
   "outputs": [],
   "source": [
    "def RoundDiff(sourceData = df_Unique_Players, targetData = df_atp_Train, forTestData = False):        \n",
    "    \n",
    "    for i in range(len(targetData)):\n",
    "        p1 = targetData.loc[targetData.index[i],'Player1']\n",
    "        p2 = targetData.loc[targetData.index[i],'Player2']\n",
    "        matchRound = targetData.loc[targetData.index[i],'Round']\n",
    "        \n",
    "        wSump1 = sourceData.loc[sourceData['Player']==p1,'WeightedSum']\n",
    "        wSump2 = sourceData.loc[sourceData['Player']==p2,'WeightedSum']\n",
    "                    \n",
    "        \n",
    "        diffW = wSump1.values - wSump2.values\n",
    "        targetData.loc[targetData.index[i],'WeightedRndDiff'] = diffW\n",
    "        \n",
    "        if 'Round' in matchRound:\n",
    "            roundValP1 = sourceData.loc[sourceData['Player']==p1,'FirstRounds']\n",
    "            roundValP2 = sourceData.loc[sourceData['Player']==p2,'FirstRounds']\n",
    "        elif matchRound == 'Quarterfinals':\n",
    "            roundValP1 = sourceData.loc[sourceData['Player']==p1,'Quarterfinals']\n",
    "            roundValP2 = sourceData.loc[sourceData['Player']==p2,'Quarterfinals']\n",
    "        elif matchRound == 'Semifinals':\n",
    "            roundValP1 = sourceData.loc[sourceData['Player']==p1,'Semifinals']\n",
    "            roundValP2 = sourceData.loc[sourceData['Player']==p2,'Semifinals']\n",
    "        elif matchRound == 'The Final':\n",
    "            roundValP1 = sourceData.loc[sourceData['Player']==p1,'Final']\n",
    "            roundValP2 = sourceData.loc[sourceData['Player']==p2,'Final']\n",
    "        else:\n",
    "            roundValP1 = wSump1\n",
    "            roundValP2 = wSump2\n",
    "        \n",
    "        diff = roundValP1.values - roundValP2.values\n",
    "        targetData.loc[targetData.index[i],'RoundDiff'] = diff"
   ]
  },
  {
   "cell_type": "code",
   "execution_count": 114,
   "metadata": {},
   "outputs": [
    {
     "name": "stdout",
     "output_type": "stream",
     "text": [
      "Computations in progress 0.0%\n",
      "Computations in progress 10.0%\n",
      "Computations in progress 20.0%\n",
      "Computations in progress 30.0%\n",
      "Computations in progress 40.0%\n",
      "Computations in progress 50.0%\n",
      "Computations in progress 60.0%\n",
      "Computations in progress 70.0%\n",
      "Computations in progress 80.0%\n",
      "Computations in progress 90.0%\n",
      "Computations in progress 100.0%\n",
      "Done !\n"
     ]
    }
   ],
   "source": [
    "RoundDiff(sourceData = df_Unique_Players, targetData = df_atp_Train)"
   ]
  },
  {
   "cell_type": "code",
   "execution_count": 115,
   "metadata": {},
   "outputs": [
    {
     "data": {
      "text/html": [
       "<div>\n",
       "<style scoped>\n",
       "    .dataframe tbody tr th:only-of-type {\n",
       "        vertical-align: middle;\n",
       "    }\n",
       "\n",
       "    .dataframe tbody tr th {\n",
       "        vertical-align: top;\n",
       "    }\n",
       "\n",
       "    .dataframe thead th {\n",
       "        text-align: right;\n",
       "    }\n",
       "</style>\n",
       "<table border=\"1\" class=\"dataframe\">\n",
       "  <thead>\n",
       "    <tr style=\"text-align: right;\">\n",
       "      <th></th>\n",
       "      <th>Best of</th>\n",
       "      <th>Court</th>\n",
       "      <th>Date</th>\n",
       "      <th>LPts</th>\n",
       "      <th>LRank</th>\n",
       "      <th>Loser</th>\n",
       "      <th>Round</th>\n",
       "      <th>Series</th>\n",
       "      <th>Surface</th>\n",
       "      <th>Tournament</th>\n",
       "      <th>...</th>\n",
       "      <th>Player1</th>\n",
       "      <th>Player2</th>\n",
       "      <th>Won</th>\n",
       "      <th>Year</th>\n",
       "      <th>p1Vsp2</th>\n",
       "      <th>Wp1Vsp2</th>\n",
       "      <th>RankDiff</th>\n",
       "      <th>PtsDiff</th>\n",
       "      <th>WeightedRndDiff</th>\n",
       "      <th>RoundDiff</th>\n",
       "    </tr>\n",
       "  </thead>\n",
       "  <tbody>\n",
       "    <tr>\n",
       "      <th>0</th>\n",
       "      <td>3</td>\n",
       "      <td>Outdoor</td>\n",
       "      <td>2015-01-05</td>\n",
       "      <td>1730.0</td>\n",
       "      <td>21.0</td>\n",
       "      <td>Simon G.</td>\n",
       "      <td>1st Round</td>\n",
       "      <td>ATP250</td>\n",
       "      <td>Hard</td>\n",
       "      <td>Brisbane International</td>\n",
       "      <td>...</td>\n",
       "      <td>Simon G.</td>\n",
       "      <td>Duckworth J.</td>\n",
       "      <td>0</td>\n",
       "      <td>2015</td>\n",
       "      <td>-1.0</td>\n",
       "      <td>-0.333333</td>\n",
       "      <td>104.0</td>\n",
       "      <td>1300.0</td>\n",
       "      <td>1.479416</td>\n",
       "      <td>0.305386</td>\n",
       "    </tr>\n",
       "    <tr>\n",
       "      <th>1</th>\n",
       "      <td>3</td>\n",
       "      <td>Outdoor</td>\n",
       "      <td>2015-01-05</td>\n",
       "      <td>1365.0</td>\n",
       "      <td>25.0</td>\n",
       "      <td>Benneteau J.</td>\n",
       "      <td>1st Round</td>\n",
       "      <td>ATP250</td>\n",
       "      <td>Hard</td>\n",
       "      <td>Brisbane International</td>\n",
       "      <td>...</td>\n",
       "      <td>Benneteau J.</td>\n",
       "      <td>Kokkinakis T.</td>\n",
       "      <td>0</td>\n",
       "      <td>2015</td>\n",
       "      <td>-1.0</td>\n",
       "      <td>-0.333333</td>\n",
       "      <td>124.0</td>\n",
       "      <td>1024.0</td>\n",
       "      <td>0.114745</td>\n",
       "      <td>0.037000</td>\n",
       "    </tr>\n",
       "    <tr>\n",
       "      <th>2</th>\n",
       "      <td>3</td>\n",
       "      <td>Outdoor</td>\n",
       "      <td>2015-01-05</td>\n",
       "      <td>691.0</td>\n",
       "      <td>72.0</td>\n",
       "      <td>Golubev A.</td>\n",
       "      <td>1st Round</td>\n",
       "      <td>ATP250</td>\n",
       "      <td>Hard</td>\n",
       "      <td>Brisbane International</td>\n",
       "      <td>...</td>\n",
       "      <td>Golubev A.</td>\n",
       "      <td>Chardy J.</td>\n",
       "      <td>0</td>\n",
       "      <td>2015</td>\n",
       "      <td>-1.0</td>\n",
       "      <td>-0.333333</td>\n",
       "      <td>-41.0</td>\n",
       "      <td>-504.0</td>\n",
       "      <td>-0.616804</td>\n",
       "      <td>-0.301305</td>\n",
       "    </tr>\n",
       "    <tr>\n",
       "      <th>3</th>\n",
       "      <td>3</td>\n",
       "      <td>Outdoor</td>\n",
       "      <td>2015-01-05</td>\n",
       "      <td>1090.0</td>\n",
       "      <td>35.0</td>\n",
       "      <td>Querrey S.</td>\n",
       "      <td>1st Round</td>\n",
       "      <td>ATP250</td>\n",
       "      <td>Hard</td>\n",
       "      <td>Brisbane International</td>\n",
       "      <td>...</td>\n",
       "      <td>Tomic B.</td>\n",
       "      <td>Querrey S.</td>\n",
       "      <td>1</td>\n",
       "      <td>2015</td>\n",
       "      <td>1.0</td>\n",
       "      <td>0.333333</td>\n",
       "      <td>-18.0</td>\n",
       "      <td>-293.0</td>\n",
       "      <td>0.117487</td>\n",
       "      <td>0.103835</td>\n",
       "    </tr>\n",
       "    <tr>\n",
       "      <th>4</th>\n",
       "      <td>3</td>\n",
       "      <td>Outdoor</td>\n",
       "      <td>2015-01-06</td>\n",
       "      <td>242.0</td>\n",
       "      <td>201.0</td>\n",
       "      <td>Copil M.</td>\n",
       "      <td>1st Round</td>\n",
       "      <td>ATP250</td>\n",
       "      <td>Hard</td>\n",
       "      <td>Brisbane International</td>\n",
       "      <td>...</td>\n",
       "      <td>Kukushkin M.</td>\n",
       "      <td>Copil M.</td>\n",
       "      <td>1</td>\n",
       "      <td>2015</td>\n",
       "      <td>0.0</td>\n",
       "      <td>0.000000</td>\n",
       "      <td>132.0</td>\n",
       "      <td>463.0</td>\n",
       "      <td>0.263762</td>\n",
       "      <td>-0.000155</td>\n",
       "    </tr>\n",
       "  </tbody>\n",
       "</table>\n",
       "<p>5 rows × 23 columns</p>\n",
       "</div>"
      ],
      "text/plain": [
       "   Best of    Court       Date    LPts  LRank         Loser      Round  \\\n",
       "0        3  Outdoor 2015-01-05  1730.0   21.0      Simon G.  1st Round   \n",
       "1        3  Outdoor 2015-01-05  1365.0   25.0  Benneteau J.  1st Round   \n",
       "2        3  Outdoor 2015-01-05   691.0   72.0    Golubev A.  1st Round   \n",
       "3        3  Outdoor 2015-01-05  1090.0   35.0    Querrey S.  1st Round   \n",
       "4        3  Outdoor 2015-01-06   242.0  201.0      Copil M.  1st Round   \n",
       "\n",
       "   Series Surface              Tournament  ...       Player1        Player2  \\\n",
       "0  ATP250    Hard  Brisbane International  ...      Simon G.   Duckworth J.   \n",
       "1  ATP250    Hard  Brisbane International  ...  Benneteau J.  Kokkinakis T.   \n",
       "2  ATP250    Hard  Brisbane International  ...    Golubev A.      Chardy J.   \n",
       "3  ATP250    Hard  Brisbane International  ...      Tomic B.     Querrey S.   \n",
       "4  ATP250    Hard  Brisbane International  ...  Kukushkin M.       Copil M.   \n",
       "\n",
       "  Won  Year p1Vsp2   Wp1Vsp2  RankDiff  PtsDiff  WeightedRndDiff  RoundDiff  \n",
       "0   0  2015   -1.0 -0.333333     104.0   1300.0         1.479416   0.305386  \n",
       "1   0  2015   -1.0 -0.333333     124.0   1024.0         0.114745   0.037000  \n",
       "2   0  2015   -1.0 -0.333333     -41.0   -504.0        -0.616804  -0.301305  \n",
       "3   1  2015    1.0  0.333333     -18.0   -293.0         0.117487   0.103835  \n",
       "4   1  2015    0.0  0.000000     132.0    463.0         0.263762  -0.000155  \n",
       "\n",
       "[5 rows x 23 columns]"
      ]
     },
     "execution_count": 115,
     "metadata": {},
     "output_type": "execute_result"
    }
   ],
   "source": [
    "df_atp_Train.head()"
   ]
  },
  {
   "cell_type": "code",
   "execution_count": 116,
   "metadata": {},
   "outputs": [],
   "source": [
    "df_atp_Test['WeightedRndDiff'] = 0   \n",
    "df_atp_Test['RoundDiff'] = 0         "
   ]
  },
  {
   "cell_type": "code",
   "execution_count": 117,
   "metadata": {},
   "outputs": [
    {
     "name": "stdout",
     "output_type": "stream",
     "text": [
      "Computations in progress 0.0%\n",
      "Computations in progress 9.0%\n",
      "Computations in progress 19.0%\n",
      "Computations in progress 28.0%\n",
      "Computations in progress 38.0%\n",
      "Computations in progress 47.0%\n",
      "Computations in progress 57.0%\n",
      "Computations in progress 66.0%\n",
      "Computations in progress 76.0%\n",
      "Computations in progress 85.0%\n",
      "Computations in progress 94.0%\n",
      "Done !\n"
     ]
    }
   ],
   "source": [
    "RoundDiff(sourceData = df_Unique_Players, targetData = df_atp_Test, forTestData=True)"
   ]
  },
  {
   "cell_type": "code",
   "execution_count": 118,
   "metadata": {},
   "outputs": [
    {
     "data": {
      "text/html": [
       "<div>\n",
       "<style scoped>\n",
       "    .dataframe tbody tr th:only-of-type {\n",
       "        vertical-align: middle;\n",
       "    }\n",
       "\n",
       "    .dataframe tbody tr th {\n",
       "        vertical-align: top;\n",
       "    }\n",
       "\n",
       "    .dataframe thead th {\n",
       "        text-align: right;\n",
       "    }\n",
       "</style>\n",
       "<table border=\"1\" class=\"dataframe\">\n",
       "  <thead>\n",
       "    <tr style=\"text-align: right;\">\n",
       "      <th></th>\n",
       "      <th>Best of</th>\n",
       "      <th>Court</th>\n",
       "      <th>Date</th>\n",
       "      <th>LPts</th>\n",
       "      <th>LRank</th>\n",
       "      <th>Loser</th>\n",
       "      <th>Round</th>\n",
       "      <th>Series</th>\n",
       "      <th>Surface</th>\n",
       "      <th>Tournament</th>\n",
       "      <th>...</th>\n",
       "      <th>Player1</th>\n",
       "      <th>Player2</th>\n",
       "      <th>Won</th>\n",
       "      <th>Year</th>\n",
       "      <th>p1Vsp2</th>\n",
       "      <th>Wp1Vsp2</th>\n",
       "      <th>RankDiff</th>\n",
       "      <th>PtsDiff</th>\n",
       "      <th>WeightedRndDiff</th>\n",
       "      <th>RoundDiff</th>\n",
       "    </tr>\n",
       "  </thead>\n",
       "  <tbody>\n",
       "    <tr>\n",
       "      <th>0</th>\n",
       "      <td>3</td>\n",
       "      <td>Outdoor</td>\n",
       "      <td>2015-01-05</td>\n",
       "      <td>1730.0</td>\n",
       "      <td>21.0</td>\n",
       "      <td>Simon G.</td>\n",
       "      <td>1st Round</td>\n",
       "      <td>ATP250</td>\n",
       "      <td>Hard</td>\n",
       "      <td>Brisbane International</td>\n",
       "      <td>...</td>\n",
       "      <td>Simon G.</td>\n",
       "      <td>Duckworth J.</td>\n",
       "      <td>0</td>\n",
       "      <td>2015</td>\n",
       "      <td>-1.0</td>\n",
       "      <td>-0.333333</td>\n",
       "      <td>104.0</td>\n",
       "      <td>1300.0</td>\n",
       "      <td>1.479416</td>\n",
       "      <td>0.305386</td>\n",
       "    </tr>\n",
       "    <tr>\n",
       "      <th>1</th>\n",
       "      <td>3</td>\n",
       "      <td>Outdoor</td>\n",
       "      <td>2015-01-05</td>\n",
       "      <td>1365.0</td>\n",
       "      <td>25.0</td>\n",
       "      <td>Benneteau J.</td>\n",
       "      <td>1st Round</td>\n",
       "      <td>ATP250</td>\n",
       "      <td>Hard</td>\n",
       "      <td>Brisbane International</td>\n",
       "      <td>...</td>\n",
       "      <td>Benneteau J.</td>\n",
       "      <td>Kokkinakis T.</td>\n",
       "      <td>0</td>\n",
       "      <td>2015</td>\n",
       "      <td>-1.0</td>\n",
       "      <td>-0.333333</td>\n",
       "      <td>124.0</td>\n",
       "      <td>1024.0</td>\n",
       "      <td>0.114745</td>\n",
       "      <td>0.037000</td>\n",
       "    </tr>\n",
       "    <tr>\n",
       "      <th>2</th>\n",
       "      <td>3</td>\n",
       "      <td>Outdoor</td>\n",
       "      <td>2015-01-05</td>\n",
       "      <td>691.0</td>\n",
       "      <td>72.0</td>\n",
       "      <td>Golubev A.</td>\n",
       "      <td>1st Round</td>\n",
       "      <td>ATP250</td>\n",
       "      <td>Hard</td>\n",
       "      <td>Brisbane International</td>\n",
       "      <td>...</td>\n",
       "      <td>Golubev A.</td>\n",
       "      <td>Chardy J.</td>\n",
       "      <td>0</td>\n",
       "      <td>2015</td>\n",
       "      <td>-1.0</td>\n",
       "      <td>-0.333333</td>\n",
       "      <td>-41.0</td>\n",
       "      <td>-504.0</td>\n",
       "      <td>-0.616804</td>\n",
       "      <td>-0.301305</td>\n",
       "    </tr>\n",
       "    <tr>\n",
       "      <th>3</th>\n",
       "      <td>3</td>\n",
       "      <td>Outdoor</td>\n",
       "      <td>2015-01-05</td>\n",
       "      <td>1090.0</td>\n",
       "      <td>35.0</td>\n",
       "      <td>Querrey S.</td>\n",
       "      <td>1st Round</td>\n",
       "      <td>ATP250</td>\n",
       "      <td>Hard</td>\n",
       "      <td>Brisbane International</td>\n",
       "      <td>...</td>\n",
       "      <td>Tomic B.</td>\n",
       "      <td>Querrey S.</td>\n",
       "      <td>1</td>\n",
       "      <td>2015</td>\n",
       "      <td>1.0</td>\n",
       "      <td>0.333333</td>\n",
       "      <td>-18.0</td>\n",
       "      <td>-293.0</td>\n",
       "      <td>0.117487</td>\n",
       "      <td>0.103835</td>\n",
       "    </tr>\n",
       "    <tr>\n",
       "      <th>4</th>\n",
       "      <td>3</td>\n",
       "      <td>Outdoor</td>\n",
       "      <td>2015-01-06</td>\n",
       "      <td>242.0</td>\n",
       "      <td>201.0</td>\n",
       "      <td>Copil M.</td>\n",
       "      <td>1st Round</td>\n",
       "      <td>ATP250</td>\n",
       "      <td>Hard</td>\n",
       "      <td>Brisbane International</td>\n",
       "      <td>...</td>\n",
       "      <td>Kukushkin M.</td>\n",
       "      <td>Copil M.</td>\n",
       "      <td>1</td>\n",
       "      <td>2015</td>\n",
       "      <td>0.0</td>\n",
       "      <td>0.000000</td>\n",
       "      <td>132.0</td>\n",
       "      <td>463.0</td>\n",
       "      <td>0.263762</td>\n",
       "      <td>-0.000155</td>\n",
       "    </tr>\n",
       "  </tbody>\n",
       "</table>\n",
       "<p>5 rows × 23 columns</p>\n",
       "</div>"
      ],
      "text/plain": [
       "   Best of    Court       Date    LPts  LRank         Loser      Round  \\\n",
       "0        3  Outdoor 2015-01-05  1730.0   21.0      Simon G.  1st Round   \n",
       "1        3  Outdoor 2015-01-05  1365.0   25.0  Benneteau J.  1st Round   \n",
       "2        3  Outdoor 2015-01-05   691.0   72.0    Golubev A.  1st Round   \n",
       "3        3  Outdoor 2015-01-05  1090.0   35.0    Querrey S.  1st Round   \n",
       "4        3  Outdoor 2015-01-06   242.0  201.0      Copil M.  1st Round   \n",
       "\n",
       "   Series Surface              Tournament  ...       Player1        Player2  \\\n",
       "0  ATP250    Hard  Brisbane International  ...      Simon G.   Duckworth J.   \n",
       "1  ATP250    Hard  Brisbane International  ...  Benneteau J.  Kokkinakis T.   \n",
       "2  ATP250    Hard  Brisbane International  ...    Golubev A.      Chardy J.   \n",
       "3  ATP250    Hard  Brisbane International  ...      Tomic B.     Querrey S.   \n",
       "4  ATP250    Hard  Brisbane International  ...  Kukushkin M.       Copil M.   \n",
       "\n",
       "  Won  Year p1Vsp2   Wp1Vsp2  RankDiff  PtsDiff  WeightedRndDiff  RoundDiff  \n",
       "0   0  2015   -1.0 -0.333333     104.0   1300.0         1.479416   0.305386  \n",
       "1   0  2015   -1.0 -0.333333     124.0   1024.0         0.114745   0.037000  \n",
       "2   0  2015   -1.0 -0.333333     -41.0   -504.0        -0.616804  -0.301305  \n",
       "3   1  2015    1.0  0.333333     -18.0   -293.0         0.117487   0.103835  \n",
       "4   1  2015    0.0  0.000000     132.0    463.0         0.263762  -0.000155  \n",
       "\n",
       "[5 rows x 23 columns]"
      ]
     },
     "execution_count": 118,
     "metadata": {},
     "output_type": "execute_result"
    }
   ],
   "source": [
    "df_atp_Train.head()"
   ]
  },
  {
   "cell_type": "code",
   "execution_count": 119,
   "metadata": {},
   "outputs": [
    {
     "data": {
      "text/plain": [
       "Index(['Best of', 'Court', 'Date', 'LPts', 'LRank', 'Loser', 'Round', 'Series',\n",
       "       'Surface', 'Tournament', 'WPts', 'WRank', 'Winner', 'Player1',\n",
       "       'Player2', 'Won', 'Year', 'p1Vsp2', 'Wp1Vsp2', 'RankDiff', 'PtsDiff',\n",
       "       'WeightedRndDiff', 'RoundDiff'],\n",
       "      dtype='object')"
      ]
     },
     "execution_count": 119,
     "metadata": {},
     "output_type": "execute_result"
    }
   ],
   "source": [
    "df_atp_Train.columns"
   ]
  },
  {
   "cell_type": "code",
   "execution_count": 120,
   "metadata": {},
   "outputs": [],
   "source": [
    "featuresCols = np.array(['Won','Year','Court','Round','Surface','RankDiff','PtsDiff','WeightedRndDiff','RoundDiff' ])"
   ]
  },
  {
   "cell_type": "code",
   "execution_count": 121,
   "metadata": {},
   "outputs": [],
   "source": [
    "TrainData = df_atp_Train.loc[:,featuresCols].copy()\n",
    "TrainX = TrainData.loc[:,'Won'!=featuresCols]\n",
    "TrainY = TrainData.loc[:,'Won']\n",
    "\n",
    "TestData = df_atp_Test.loc[:,featuresCols].copy()\n",
    "TestX = TestData.loc[:,'Won'!=featuresCols]\n",
    "TestY = TestData.loc[:,'Won']"
   ]
  },
  {
   "cell_type": "code",
   "execution_count": 122,
   "metadata": {},
   "outputs": [],
   "source": [
    "df_atp_Train.to_csv(date_format='%Y-%m-%d',header=True, path_or_buf='ATPTrain.csv')\n",
    "df_atp_Test.to_csv(date_format='%Y-%m-%d',header=True, path_or_buf='ATPTest.csv')"
   ]
  },
  {
   "cell_type": "markdown",
   "metadata": {},
   "source": [
    "#### Categorical variables to dummy variables"
   ]
  },
  {
   "cell_type": "code",
   "execution_count": 123,
   "metadata": {},
   "outputs": [],
   "source": [
    "from sklearn import preprocessing\n",
    "from sklearn.metrics import classification_report, confusion_matrix"
   ]
  },
  {
   "cell_type": "code",
   "execution_count": 124,
   "metadata": {},
   "outputs": [
    {
     "data": {
      "text/plain": [
       "Index(['Year', 'Court', 'Round', 'Surface', 'RankDiff', 'PtsDiff',\n",
       "       'WeightedRndDiff', 'RoundDiff'],\n",
       "      dtype='object')"
      ]
     },
     "execution_count": 124,
     "metadata": {},
     "output_type": "execute_result"
    }
   ],
   "source": [
    "TrainX.columns"
   ]
  },
  {
   "cell_type": "code",
   "execution_count": 125,
   "metadata": {},
   "outputs": [
    {
     "data": {
      "text/html": [
       "<div>\n",
       "<style scoped>\n",
       "    .dataframe tbody tr th:only-of-type {\n",
       "        vertical-align: middle;\n",
       "    }\n",
       "\n",
       "    .dataframe tbody tr th {\n",
       "        vertical-align: top;\n",
       "    }\n",
       "\n",
       "    .dataframe thead th {\n",
       "        text-align: right;\n",
       "    }\n",
       "</style>\n",
       "<table border=\"1\" class=\"dataframe\">\n",
       "  <thead>\n",
       "    <tr style=\"text-align: right;\">\n",
       "      <th></th>\n",
       "      <th>CourtCat</th>\n",
       "    </tr>\n",
       "  </thead>\n",
       "  <tbody>\n",
       "    <tr>\n",
       "      <th>0</th>\n",
       "      <td>Outdoor</td>\n",
       "    </tr>\n",
       "    <tr>\n",
       "      <th>1</th>\n",
       "      <td>Indoor</td>\n",
       "    </tr>\n",
       "  </tbody>\n",
       "</table>\n",
       "</div>"
      ],
      "text/plain": [
       "  CourtCat\n",
       "0  Outdoor\n",
       "1   Indoor"
      ]
     },
     "execution_count": 125,
     "metadata": {},
     "output_type": "execute_result"
    }
   ],
   "source": [
    "courtCats = TrainX.Court.unique()\n",
    "CourtCat = pd.DataFrame({'CourtCat':TrainX.Court.unique()})\n",
    "CourtCat"
   ]
  },
  {
   "cell_type": "code",
   "execution_count": 126,
   "metadata": {},
   "outputs": [
    {
     "data": {
      "text/html": [
       "<div>\n",
       "<style scoped>\n",
       "    .dataframe tbody tr th:only-of-type {\n",
       "        vertical-align: middle;\n",
       "    }\n",
       "\n",
       "    .dataframe tbody tr th {\n",
       "        vertical-align: top;\n",
       "    }\n",
       "\n",
       "    .dataframe thead th {\n",
       "        text-align: right;\n",
       "    }\n",
       "</style>\n",
       "<table border=\"1\" class=\"dataframe\">\n",
       "  <thead>\n",
       "    <tr style=\"text-align: right;\">\n",
       "      <th></th>\n",
       "      <th>SurfaceCat</th>\n",
       "    </tr>\n",
       "  </thead>\n",
       "  <tbody>\n",
       "    <tr>\n",
       "      <th>0</th>\n",
       "      <td>Hard</td>\n",
       "    </tr>\n",
       "    <tr>\n",
       "      <th>1</th>\n",
       "      <td>Clay</td>\n",
       "    </tr>\n",
       "    <tr>\n",
       "      <th>2</th>\n",
       "      <td>Grass</td>\n",
       "    </tr>\n",
       "  </tbody>\n",
       "</table>\n",
       "</div>"
      ],
      "text/plain": [
       "  SurfaceCat\n",
       "0       Hard\n",
       "1       Clay\n",
       "2      Grass"
      ]
     },
     "execution_count": 126,
     "metadata": {},
     "output_type": "execute_result"
    }
   ],
   "source": [
    "surfCats = TrainX.Surface.unique()\n",
    "SurfaceCategories = pd.DataFrame({'SurfaceCat':TrainX.Surface.unique()})\n",
    "SurfaceCategories"
   ]
  },
  {
   "cell_type": "code",
   "execution_count": 127,
   "metadata": {},
   "outputs": [
    {
     "data": {
      "text/html": [
       "<div>\n",
       "<style scoped>\n",
       "    .dataframe tbody tr th:only-of-type {\n",
       "        vertical-align: middle;\n",
       "    }\n",
       "\n",
       "    .dataframe tbody tr th {\n",
       "        vertical-align: top;\n",
       "    }\n",
       "\n",
       "    .dataframe thead th {\n",
       "        text-align: right;\n",
       "    }\n",
       "</style>\n",
       "<table border=\"1\" class=\"dataframe\">\n",
       "  <thead>\n",
       "    <tr style=\"text-align: right;\">\n",
       "      <th></th>\n",
       "      <th>RoundCat</th>\n",
       "    </tr>\n",
       "  </thead>\n",
       "  <tbody>\n",
       "    <tr>\n",
       "      <th>0</th>\n",
       "      <td>1st Round</td>\n",
       "    </tr>\n",
       "    <tr>\n",
       "      <th>1</th>\n",
       "      <td>2nd Round</td>\n",
       "    </tr>\n",
       "    <tr>\n",
       "      <th>2</th>\n",
       "      <td>Quarterfinals</td>\n",
       "    </tr>\n",
       "    <tr>\n",
       "      <th>3</th>\n",
       "      <td>Semifinals</td>\n",
       "    </tr>\n",
       "    <tr>\n",
       "      <th>4</th>\n",
       "      <td>The Final</td>\n",
       "    </tr>\n",
       "    <tr>\n",
       "      <th>5</th>\n",
       "      <td>3rd Round</td>\n",
       "    </tr>\n",
       "    <tr>\n",
       "      <th>6</th>\n",
       "      <td>4th Round</td>\n",
       "    </tr>\n",
       "    <tr>\n",
       "      <th>7</th>\n",
       "      <td>Round Robin</td>\n",
       "    </tr>\n",
       "  </tbody>\n",
       "</table>\n",
       "</div>"
      ],
      "text/plain": [
       "        RoundCat\n",
       "0      1st Round\n",
       "1      2nd Round\n",
       "2  Quarterfinals\n",
       "3     Semifinals\n",
       "4      The Final\n",
       "5      3rd Round\n",
       "6      4th Round\n",
       "7    Round Robin"
      ]
     },
     "execution_count": 127,
     "metadata": {},
     "output_type": "execute_result"
    }
   ],
   "source": [
    "roundCats = TrainX.Round.unique()\n",
    "RoundCategories = pd.DataFrame({'RoundCat':TrainX.Round.unique()})\n",
    "RoundCategories"
   ]
  },
  {
   "cell_type": "code",
   "execution_count": 128,
   "metadata": {},
   "outputs": [],
   "source": [
    "#We turn these features into 0-1 encoding (Dummy variables)"
   ]
  },
  {
   "cell_type": "code",
   "execution_count": 129,
   "metadata": {},
   "outputs": [],
   "source": [
    "surfaceDummiesTrain = pd.get_dummies(TrainX,columns= np.array(['Surface']), prefix='', prefix_sep='')\n",
    "surfaceDummiesTrain = surfaceDummiesTrain.T.reindex(surfCats).T.fillna(0)\n",
    "surfaceDummiesTrain = surfaceDummiesTrain.loc[:,surfCats]"
   ]
  },
  {
   "cell_type": "code",
   "execution_count": 130,
   "metadata": {},
   "outputs": [],
   "source": [
    "surfaceDummiesTest = pd.get_dummies(TestX,columns= np.array(['Surface']), prefix='', prefix_sep='')\n",
    "surfaceDummiesTest = surfaceDummiesTest.T.reindex(surfCats).T.fillna(0)\n",
    "surfaceDummiesTest = surfaceDummiesTest.loc[:,surfCats]"
   ]
  },
  {
   "cell_type": "code",
   "execution_count": 131,
   "metadata": {},
   "outputs": [],
   "source": [
    "courtDummiesTrain = pd.get_dummies(TrainX,columns= np.array(['Court']), prefix='', prefix_sep='')\n",
    "courtDummiesTrain = courtDummiesTrain.T.reindex(courtCats).T.fillna(0)\n",
    "courtDummiesTrain = courtDummiesTrain.loc[:,courtCats]"
   ]
  },
  {
   "cell_type": "code",
   "execution_count": 132,
   "metadata": {},
   "outputs": [],
   "source": [
    "courtDummiesTest = pd.get_dummies(TestX,columns= np.array(['Court']), prefix='', prefix_sep='')\n",
    "courtDummiesTest = courtDummiesTest.T.reindex(courtCats).T.fillna(0)\n",
    "courtDummiesTest = courtDummiesTest.loc[:,courtCats]"
   ]
  },
  {
   "cell_type": "code",
   "execution_count": 133,
   "metadata": {},
   "outputs": [],
   "source": [
    "roundDummiesTrain = pd.get_dummies(TrainX,columns= np.array(['Round']), prefix='', prefix_sep='')\n",
    "roundDummiesTrain = roundDummiesTrain.T.reindex(roundCats).T.fillna(0)\n",
    "roundDummiesTrain = roundDummiesTrain.loc[:,roundCats]"
   ]
  },
  {
   "cell_type": "code",
   "execution_count": 134,
   "metadata": {},
   "outputs": [],
   "source": [
    "roundDummiesTest = pd.get_dummies(TestX,columns= np.array(['Round']), prefix='', prefix_sep='')\n",
    "roundDummiesTest = roundDummiesTest.T.reindex(roundCats).T.fillna(0)\n",
    "roundDummiesTest = roundDummiesTest.loc[:,roundCats]"
   ]
  },
  {
   "cell_type": "code",
   "execution_count": 135,
   "metadata": {},
   "outputs": [],
   "source": [
    "TrainX = pd.concat([TrainX, surfaceDummiesTrain, courtDummiesTrain, roundDummiesTrain], axis=1)"
   ]
  },
  {
   "cell_type": "code",
   "execution_count": 136,
   "metadata": {},
   "outputs": [
    {
     "data": {
      "text/html": [
       "<div>\n",
       "<style scoped>\n",
       "    .dataframe tbody tr th:only-of-type {\n",
       "        vertical-align: middle;\n",
       "    }\n",
       "\n",
       "    .dataframe tbody tr th {\n",
       "        vertical-align: top;\n",
       "    }\n",
       "\n",
       "    .dataframe thead th {\n",
       "        text-align: right;\n",
       "    }\n",
       "</style>\n",
       "<table border=\"1\" class=\"dataframe\">\n",
       "  <thead>\n",
       "    <tr style=\"text-align: right;\">\n",
       "      <th></th>\n",
       "      <th>Year</th>\n",
       "      <th>Court</th>\n",
       "      <th>Round</th>\n",
       "      <th>Surface</th>\n",
       "      <th>RankDiff</th>\n",
       "      <th>PtsDiff</th>\n",
       "      <th>WeightedRndDiff</th>\n",
       "      <th>RoundDiff</th>\n",
       "      <th>Hard</th>\n",
       "      <th>Clay</th>\n",
       "      <th>...</th>\n",
       "      <th>Outdoor</th>\n",
       "      <th>Indoor</th>\n",
       "      <th>1st Round</th>\n",
       "      <th>2nd Round</th>\n",
       "      <th>Quarterfinals</th>\n",
       "      <th>Semifinals</th>\n",
       "      <th>The Final</th>\n",
       "      <th>3rd Round</th>\n",
       "      <th>4th Round</th>\n",
       "      <th>Round Robin</th>\n",
       "    </tr>\n",
       "  </thead>\n",
       "  <tbody>\n",
       "    <tr>\n",
       "      <th>0</th>\n",
       "      <td>2015</td>\n",
       "      <td>Outdoor</td>\n",
       "      <td>1st Round</td>\n",
       "      <td>Hard</td>\n",
       "      <td>104.0</td>\n",
       "      <td>1300.0</td>\n",
       "      <td>1.479416</td>\n",
       "      <td>0.305386</td>\n",
       "      <td>1</td>\n",
       "      <td>0</td>\n",
       "      <td>...</td>\n",
       "      <td>1</td>\n",
       "      <td>0</td>\n",
       "      <td>1</td>\n",
       "      <td>0</td>\n",
       "      <td>0</td>\n",
       "      <td>0</td>\n",
       "      <td>0</td>\n",
       "      <td>0</td>\n",
       "      <td>0</td>\n",
       "      <td>0</td>\n",
       "    </tr>\n",
       "    <tr>\n",
       "      <th>1</th>\n",
       "      <td>2015</td>\n",
       "      <td>Outdoor</td>\n",
       "      <td>1st Round</td>\n",
       "      <td>Hard</td>\n",
       "      <td>124.0</td>\n",
       "      <td>1024.0</td>\n",
       "      <td>0.114745</td>\n",
       "      <td>0.037000</td>\n",
       "      <td>1</td>\n",
       "      <td>0</td>\n",
       "      <td>...</td>\n",
       "      <td>1</td>\n",
       "      <td>0</td>\n",
       "      <td>1</td>\n",
       "      <td>0</td>\n",
       "      <td>0</td>\n",
       "      <td>0</td>\n",
       "      <td>0</td>\n",
       "      <td>0</td>\n",
       "      <td>0</td>\n",
       "      <td>0</td>\n",
       "    </tr>\n",
       "    <tr>\n",
       "      <th>2</th>\n",
       "      <td>2015</td>\n",
       "      <td>Outdoor</td>\n",
       "      <td>1st Round</td>\n",
       "      <td>Hard</td>\n",
       "      <td>-41.0</td>\n",
       "      <td>-504.0</td>\n",
       "      <td>-0.616804</td>\n",
       "      <td>-0.301305</td>\n",
       "      <td>1</td>\n",
       "      <td>0</td>\n",
       "      <td>...</td>\n",
       "      <td>1</td>\n",
       "      <td>0</td>\n",
       "      <td>1</td>\n",
       "      <td>0</td>\n",
       "      <td>0</td>\n",
       "      <td>0</td>\n",
       "      <td>0</td>\n",
       "      <td>0</td>\n",
       "      <td>0</td>\n",
       "      <td>0</td>\n",
       "    </tr>\n",
       "    <tr>\n",
       "      <th>3</th>\n",
       "      <td>2015</td>\n",
       "      <td>Outdoor</td>\n",
       "      <td>1st Round</td>\n",
       "      <td>Hard</td>\n",
       "      <td>-18.0</td>\n",
       "      <td>-293.0</td>\n",
       "      <td>0.117487</td>\n",
       "      <td>0.103835</td>\n",
       "      <td>1</td>\n",
       "      <td>0</td>\n",
       "      <td>...</td>\n",
       "      <td>1</td>\n",
       "      <td>0</td>\n",
       "      <td>1</td>\n",
       "      <td>0</td>\n",
       "      <td>0</td>\n",
       "      <td>0</td>\n",
       "      <td>0</td>\n",
       "      <td>0</td>\n",
       "      <td>0</td>\n",
       "      <td>0</td>\n",
       "    </tr>\n",
       "    <tr>\n",
       "      <th>4</th>\n",
       "      <td>2015</td>\n",
       "      <td>Outdoor</td>\n",
       "      <td>1st Round</td>\n",
       "      <td>Hard</td>\n",
       "      <td>132.0</td>\n",
       "      <td>463.0</td>\n",
       "      <td>0.263762</td>\n",
       "      <td>-0.000155</td>\n",
       "      <td>1</td>\n",
       "      <td>0</td>\n",
       "      <td>...</td>\n",
       "      <td>1</td>\n",
       "      <td>0</td>\n",
       "      <td>1</td>\n",
       "      <td>0</td>\n",
       "      <td>0</td>\n",
       "      <td>0</td>\n",
       "      <td>0</td>\n",
       "      <td>0</td>\n",
       "      <td>0</td>\n",
       "      <td>0</td>\n",
       "    </tr>\n",
       "  </tbody>\n",
       "</table>\n",
       "<p>5 rows × 21 columns</p>\n",
       "</div>"
      ],
      "text/plain": [
       "   Year    Court      Round Surface  RankDiff  PtsDiff  WeightedRndDiff  \\\n",
       "0  2015  Outdoor  1st Round    Hard     104.0   1300.0         1.479416   \n",
       "1  2015  Outdoor  1st Round    Hard     124.0   1024.0         0.114745   \n",
       "2  2015  Outdoor  1st Round    Hard     -41.0   -504.0        -0.616804   \n",
       "3  2015  Outdoor  1st Round    Hard     -18.0   -293.0         0.117487   \n",
       "4  2015  Outdoor  1st Round    Hard     132.0    463.0         0.263762   \n",
       "\n",
       "   RoundDiff  Hard  Clay  ...  Outdoor  Indoor  1st Round  2nd Round  \\\n",
       "0   0.305386     1     0  ...        1       0          1          0   \n",
       "1   0.037000     1     0  ...        1       0          1          0   \n",
       "2  -0.301305     1     0  ...        1       0          1          0   \n",
       "3   0.103835     1     0  ...        1       0          1          0   \n",
       "4  -0.000155     1     0  ...        1       0          1          0   \n",
       "\n",
       "   Quarterfinals  Semifinals  The Final  3rd Round  4th Round  Round Robin  \n",
       "0              0           0          0          0          0            0  \n",
       "1              0           0          0          0          0            0  \n",
       "2              0           0          0          0          0            0  \n",
       "3              0           0          0          0          0            0  \n",
       "4              0           0          0          0          0            0  \n",
       "\n",
       "[5 rows x 21 columns]"
      ]
     },
     "execution_count": 136,
     "metadata": {},
     "output_type": "execute_result"
    }
   ],
   "source": [
    "TrainX.head()"
   ]
  },
  {
   "cell_type": "code",
   "execution_count": 137,
   "metadata": {},
   "outputs": [],
   "source": [
    "TestX = pd.concat([TestX, surfaceDummiesTest, courtDummiesTest, roundDummiesTest], axis=1)"
   ]
  },
  {
   "cell_type": "code",
   "execution_count": 138,
   "metadata": {},
   "outputs": [
    {
     "data": {
      "text/html": [
       "<div>\n",
       "<style scoped>\n",
       "    .dataframe tbody tr th:only-of-type {\n",
       "        vertical-align: middle;\n",
       "    }\n",
       "\n",
       "    .dataframe tbody tr th {\n",
       "        vertical-align: top;\n",
       "    }\n",
       "\n",
       "    .dataframe thead th {\n",
       "        text-align: right;\n",
       "    }\n",
       "</style>\n",
       "<table border=\"1\" class=\"dataframe\">\n",
       "  <thead>\n",
       "    <tr style=\"text-align: right;\">\n",
       "      <th></th>\n",
       "      <th>Year</th>\n",
       "      <th>Court</th>\n",
       "      <th>Round</th>\n",
       "      <th>Surface</th>\n",
       "      <th>RankDiff</th>\n",
       "      <th>PtsDiff</th>\n",
       "      <th>WeightedRndDiff</th>\n",
       "      <th>RoundDiff</th>\n",
       "      <th>Hard</th>\n",
       "      <th>Clay</th>\n",
       "      <th>...</th>\n",
       "      <th>Outdoor</th>\n",
       "      <th>Indoor</th>\n",
       "      <th>1st Round</th>\n",
       "      <th>2nd Round</th>\n",
       "      <th>Quarterfinals</th>\n",
       "      <th>Semifinals</th>\n",
       "      <th>The Final</th>\n",
       "      <th>3rd Round</th>\n",
       "      <th>4th Round</th>\n",
       "      <th>Round Robin</th>\n",
       "    </tr>\n",
       "  </thead>\n",
       "  <tbody>\n",
       "    <tr>\n",
       "      <th>10526</th>\n",
       "      <td>2019</td>\n",
       "      <td>Outdoor</td>\n",
       "      <td>1st Round</td>\n",
       "      <td>Hard</td>\n",
       "      <td>36.0</td>\n",
       "      <td>3765.0</td>\n",
       "      <td>0.616386</td>\n",
       "      <td>0.253541</td>\n",
       "      <td>1</td>\n",
       "      <td>0</td>\n",
       "      <td>...</td>\n",
       "      <td>1</td>\n",
       "      <td>0</td>\n",
       "      <td>1</td>\n",
       "      <td>0</td>\n",
       "      <td>0</td>\n",
       "      <td>0</td>\n",
       "      <td>0</td>\n",
       "      <td>0</td>\n",
       "      <td>0</td>\n",
       "      <td>0</td>\n",
       "    </tr>\n",
       "    <tr>\n",
       "      <th>10527</th>\n",
       "      <td>2019</td>\n",
       "      <td>Outdoor</td>\n",
       "      <td>1st Round</td>\n",
       "      <td>Hard</td>\n",
       "      <td>-150.0</td>\n",
       "      <td>-1508.0</td>\n",
       "      <td>-1.418630</td>\n",
       "      <td>-0.242029</td>\n",
       "      <td>1</td>\n",
       "      <td>0</td>\n",
       "      <td>...</td>\n",
       "      <td>1</td>\n",
       "      <td>0</td>\n",
       "      <td>1</td>\n",
       "      <td>0</td>\n",
       "      <td>0</td>\n",
       "      <td>0</td>\n",
       "      <td>0</td>\n",
       "      <td>0</td>\n",
       "      <td>0</td>\n",
       "      <td>0</td>\n",
       "    </tr>\n",
       "    <tr>\n",
       "      <th>10528</th>\n",
       "      <td>2019</td>\n",
       "      <td>Outdoor</td>\n",
       "      <td>1st Round</td>\n",
       "      <td>Hard</td>\n",
       "      <td>9.0</td>\n",
       "      <td>59.0</td>\n",
       "      <td>0.262772</td>\n",
       "      <td>0.094430</td>\n",
       "      <td>1</td>\n",
       "      <td>0</td>\n",
       "      <td>...</td>\n",
       "      <td>1</td>\n",
       "      <td>0</td>\n",
       "      <td>1</td>\n",
       "      <td>0</td>\n",
       "      <td>0</td>\n",
       "      <td>0</td>\n",
       "      <td>0</td>\n",
       "      <td>0</td>\n",
       "      <td>0</td>\n",
       "      <td>0</td>\n",
       "    </tr>\n",
       "    <tr>\n",
       "      <th>10529</th>\n",
       "      <td>2019</td>\n",
       "      <td>Outdoor</td>\n",
       "      <td>1st Round</td>\n",
       "      <td>Hard</td>\n",
       "      <td>-60.0</td>\n",
       "      <td>-307.0</td>\n",
       "      <td>-0.050000</td>\n",
       "      <td>-0.062500</td>\n",
       "      <td>1</td>\n",
       "      <td>0</td>\n",
       "      <td>...</td>\n",
       "      <td>1</td>\n",
       "      <td>0</td>\n",
       "      <td>1</td>\n",
       "      <td>0</td>\n",
       "      <td>0</td>\n",
       "      <td>0</td>\n",
       "      <td>0</td>\n",
       "      <td>0</td>\n",
       "      <td>0</td>\n",
       "      <td>0</td>\n",
       "    </tr>\n",
       "    <tr>\n",
       "      <th>10530</th>\n",
       "      <td>2019</td>\n",
       "      <td>Outdoor</td>\n",
       "      <td>1st Round</td>\n",
       "      <td>Hard</td>\n",
       "      <td>-97.0</td>\n",
       "      <td>-952.0</td>\n",
       "      <td>-1.097140</td>\n",
       "      <td>-0.361455</td>\n",
       "      <td>1</td>\n",
       "      <td>0</td>\n",
       "      <td>...</td>\n",
       "      <td>1</td>\n",
       "      <td>0</td>\n",
       "      <td>1</td>\n",
       "      <td>0</td>\n",
       "      <td>0</td>\n",
       "      <td>0</td>\n",
       "      <td>0</td>\n",
       "      <td>0</td>\n",
       "      <td>0</td>\n",
       "      <td>0</td>\n",
       "    </tr>\n",
       "  </tbody>\n",
       "</table>\n",
       "<p>5 rows × 21 columns</p>\n",
       "</div>"
      ],
      "text/plain": [
       "       Year    Court      Round Surface  RankDiff  PtsDiff  WeightedRndDiff  \\\n",
       "10526  2019  Outdoor  1st Round    Hard      36.0   3765.0         0.616386   \n",
       "10527  2019  Outdoor  1st Round    Hard    -150.0  -1508.0        -1.418630   \n",
       "10528  2019  Outdoor  1st Round    Hard       9.0     59.0         0.262772   \n",
       "10529  2019  Outdoor  1st Round    Hard     -60.0   -307.0        -0.050000   \n",
       "10530  2019  Outdoor  1st Round    Hard     -97.0   -952.0        -1.097140   \n",
       "\n",
       "       RoundDiff  Hard  Clay  ...  Outdoor  Indoor  1st Round  2nd Round  \\\n",
       "10526   0.253541     1     0  ...        1       0          1          0   \n",
       "10527  -0.242029     1     0  ...        1       0          1          0   \n",
       "10528   0.094430     1     0  ...        1       0          1          0   \n",
       "10529  -0.062500     1     0  ...        1       0          1          0   \n",
       "10530  -0.361455     1     0  ...        1       0          1          0   \n",
       "\n",
       "       Quarterfinals  Semifinals  The Final  3rd Round  4th Round  Round Robin  \n",
       "10526              0           0          0          0          0            0  \n",
       "10527              0           0          0          0          0            0  \n",
       "10528              0           0          0          0          0            0  \n",
       "10529              0           0          0          0          0            0  \n",
       "10530              0           0          0          0          0            0  \n",
       "\n",
       "[5 rows x 21 columns]"
      ]
     },
     "execution_count": 138,
     "metadata": {},
     "output_type": "execute_result"
    }
   ],
   "source": [
    "TestX.head()"
   ]
  },
  {
   "cell_type": "code",
   "execution_count": 139,
   "metadata": {},
   "outputs": [],
   "source": [
    "TrainX.drop(axis=1,columns=['Court','Surface', 'Round'], inplace=True)"
   ]
  },
  {
   "cell_type": "code",
   "execution_count": 140,
   "metadata": {},
   "outputs": [],
   "source": [
    "TestX.drop(axis=1,columns=['Court','Surface','Round'], inplace=True)"
   ]
  },
  {
   "cell_type": "markdown",
   "metadata": {},
   "source": [
    "# STARTING COMPUTATION "
   ]
  },
  {
   "cell_type": "code",
   "execution_count": 141,
   "metadata": {},
   "outputs": [],
   "source": [
    "from sklearn.ensemble import RandomForestClassifier , AdaBoostClassifier, GradientBoostingClassifier\n",
    "from sklearn.model_selection import RandomizedSearchCV, GridSearchCV\n",
    "from sklearn.tree import DecisionTreeClassifier"
   ]
  },
  {
   "cell_type": "code",
   "execution_count": 142,
   "metadata": {},
   "outputs": [],
   "source": [
    "rf_Fit0=RandomForestClassifier(n_estimators=1000, random_state=1995, min_samples_leaf=20, max_features=9, criterion='gini' )"
   ]
  },
  {
   "cell_type": "code",
   "execution_count": 153,
   "metadata": {},
   "outputs": [],
   "source": [
    "TrainX = TrainX.fillna(0)\n",
    "TrainY = TrainY.fillna(0)\n",
    "TestX = TestX.fillna(0)"
   ]
  },
  {
   "cell_type": "code",
   "execution_count": 151,
   "metadata": {},
   "outputs": [
    {
     "data": {
      "text/plain": [
       "RandomForestClassifier(bootstrap=True, class_weight=None, criterion='gini',\n",
       "                       max_depth=None, max_features=9, max_leaf_nodes=None,\n",
       "                       min_impurity_decrease=0.0, min_impurity_split=None,\n",
       "                       min_samples_leaf=20, min_samples_split=2,\n",
       "                       min_weight_fraction_leaf=0.0, n_estimators=1000,\n",
       "                       n_jobs=None, oob_score=False, random_state=1995,\n",
       "                       verbose=0, warm_start=False)"
      ]
     },
     "execution_count": 151,
     "metadata": {},
     "output_type": "execute_result"
    }
   ],
   "source": [
    "rf_Fit0.fit(TrainX,TrainY)"
   ]
  },
  {
   "cell_type": "code",
   "execution_count": 154,
   "metadata": {},
   "outputs": [],
   "source": [
    "rf_pred = rf_Fit0.predict(TestX)"
   ]
  },
  {
   "cell_type": "code",
   "execution_count": 155,
   "metadata": {},
   "outputs": [
    {
     "data": {
      "text/plain": [
       "0.7480314960629921"
      ]
     },
     "execution_count": 155,
     "metadata": {},
     "output_type": "execute_result"
    }
   ],
   "source": [
    "rf_Fit0.score(TestX, TestY)"
   ]
  },
  {
   "cell_type": "code",
   "execution_count": 165,
   "metadata": {},
   "outputs": [],
   "source": [
    "feature_imp = pd.Series(rf_Fit0.feature_importances_, index=TrainX.columns).sort_values(ascending=False)"
   ]
  },
  {
   "cell_type": "code",
   "execution_count": 167,
   "metadata": {},
   "outputs": [
    {
     "data": {
      "text/plain": [
       "Text(0.5, 1.0, 'Features importance in the optimal Random Forest estimator')"
      ]
     },
     "execution_count": 167,
     "metadata": {},
     "output_type": "execute_result"
    },
    {
     "data": {
      "image/png": "[encoded data removed]",
      "text/plain": [
       "<Figure size 720x432 with 1 Axes>"
      ]
     },
     "metadata": {
      "needs_background": "light"
     },
     "output_type": "display_data"
    }
   ],
   "source": [
    "import seaborn as sns\n",
    "fig, ax = plt.subplots(figsize=(10,6))\n",
    "sns.barplot(x=feature_imp, y=feature_imp.index)\n",
    "plt.title('Features importance in the optimal Random Forest estimator')"
   ]
  },
  {
   "cell_type": "code",
   "execution_count": 168,
   "metadata": {},
   "outputs": [],
   "source": [
    "bestPredictions = best_rf.predict(TestX)"
   ]
  },
  {
   "cell_type": "code",
   "execution_count": 169,
   "metadata": {},
   "outputs": [],
   "source": [
    "bestPredictions = bestPredictions.reshape((len(bestPredictions),1))"
   ]
  },
  {
   "cell_type": "code",
   "execution_count": 170,
   "metadata": {},
   "outputs": [],
   "source": [
    "trueValues = np.array(TestY).reshape((len(TestY),1))"
   ]
  },
  {
   "cell_type": "code",
   "execution_count": 171,
   "metadata": {},
   "outputs": [
    {
     "data": {
      "text/plain": [
       "array([[45, 14],\n",
       "       [18, 50]])"
      ]
     },
     "execution_count": 171,
     "metadata": {},
     "output_type": "execute_result"
    }
   ],
   "source": [
    "confusion_matrix(y_pred=bestPredictions, y_true=trueValues)"
   ]
  },
  {
   "cell_type": "code",
   "execution_count": 33,
   "metadata": {},
   "outputs": [],
   "source": [
    "import pandas as pd  \n",
    "import os.path as osp\n",
    "import os\n",
    "import logging\n",
    "from glob import glob\n",
    "import numpy as np\n",
    "import re   \n",
    "import plotnine as pln\n",
    "import numpy as np\n",
    "import datetime\n",
    "from matplotlib import pyplot as plt"
   ]
  },
  {
   "cell_type": "code",
   "execution_count": 34,
   "metadata": {},
   "outputs": [],
   "source": [
    "FILES = sorted(glob(\"./*.csv*\"))"
   ]
  },
  {
   "cell_type": "code",
   "execution_count": 35,
   "metadata": {},
   "outputs": [],
   "source": [
    "df_atp = pd.concat([pd.read_csv(f) for f in FILES], ignore_index=True,sort=True)"
   ]
  },
  {
   "cell_type": "code",
   "execution_count": 36,
   "metadata": {},
   "outputs": [],
   "source": [
    "df_atp['Date'] = pd.to_datetime(df_atp['Date'], errors='coerce')"
   ]
  },
  {
   "cell_type": "code",
   "execution_count": 37,
   "metadata": {},
   "outputs": [],
   "source": [
    "gTest = lambda x: x.year == 2019\n",
    "gTrain = lambda x: x.year < 2019\n",
    "testInd = df_atp['Date'].apply(gTest)\n",
    "trainInd = df_atp['Date'].apply(gTrain)"
   ]
  },
  {
   "cell_type": "code",
   "execution_count": 38,
   "metadata": {},
   "outputs": [],
   "source": [
    "df_train = df_atp.loc[trainInd].copy()\n",
    "df_test = df_atp.loc[testInd].copy()"
   ]
  },
  {
   "cell_type": "code",
   "execution_count": 81,
   "metadata": {},
   "outputs": [],
   "source": [
    "X_train = df_train.drop([\"Won\",\"Loser\",\"Winner\",\"Player1\",\"Player2\",\"Series\",\"Tournament\",\"Court\",\"Surface\",\"Unnamed: 0\",\"Round\",\"Date\"], axis=1)\n",
    "y_train = df_train[\"Won\"]\n",
    "\n",
    "X_test = df_test.drop([\"Won\",\"Loser\",\"Winner\",\"Player1\",\"Player2\",\"Series\",\"Tournament\",\"Court\",\"Surface\",\"Unnamed: 0\",\"Round\",\"Date\"], axis=1)\n",
    "y_test = df_test[\"Won\"]\n",
    "\n",
    "X_train = X_train.fillna(0)\n",
    "X_test = X_test.fillna(0)\n",
    "y_train = y_train.fillna(0)\n",
    "y_test = y_test.fillna(0)"
   ]
  },
  {
   "cell_type": "code",
   "execution_count": 82,
   "metadata": {},
   "outputs": [],
   "source": [
    "from sklearn.metrics import accuracy_score, precision_score, recall_score, f1_score\n",
    "from sklearn.linear_model import LogisticRegression\n",
    "from sklearn.neighbors import KNeighborsClassifier\n",
    "from sklearn.gaussian_process import GaussianProcessClassifier\n",
    "from sklearn.gaussian_process.kernels import RBF\n",
    "from sklearn.tree import DecisionTreeClassifier\n",
    "from sklearn.ensemble import RandomForestClassifier, AdaBoostClassifier\n",
    "from sklearn.naive_bayes import GaussianNB\n",
    "from sklearn.discriminant_analysis import QuadraticDiscriminantAnalysis\n",
    "from time import time"
   ]
  },
  {
   "cell_type": "code",
   "execution_count": 83,
   "metadata": {},
   "outputs": [
    {
     "name": "stderr",
     "output_type": "stream",
     "text": [
      "/Users/george/Desktop/Anaconda/anaconda3/lib/python3.7/site-packages/sklearn/linear_model/logistic.py:432: FutureWarning: Default solver will be changed to 'lbfgs' in 0.22. Specify a solver to silence this warning.\n",
      "  FutureWarning)\n"
     ]
    },
    {
     "name": "stdout",
     "output_type": "stream",
     "text": [
      "Classifier : Logistic Regression ===> Training duration : 0.09934425354003906 sec\n",
      "Classifier : Nearest Neighbors ===> Training duration : 0.005655050277709961 sec\n",
      "Classifier : Decision Tree ===> Training duration : 0.0288848876953125 sec\n",
      "Classifier : Random Forest ===> Training duration : 0.10797286033630371 sec\n",
      "Classifier : AdaBoost ===> Training duration : 0.4382622241973877 sec\n",
      "Classifier : Naive Bayes ===> Training duration : 0.0041921138763427734 sec\n"
     ]
    }
   ],
   "source": [
    "names = ['Logistic Regression',\"Nearest Neighbors\", \"Decision Tree\", \"Random Forest\", \"AdaBoost\",\"Naive Bayes\"]\n",
    "\n",
    "classifiers = [\n",
    "    LogisticRegression(),\n",
    "    KNeighborsClassifier(5, n_jobs=-1),\n",
    "    DecisionTreeClassifier(max_depth=10),\n",
    "    RandomForestClassifier(max_depth=10, n_estimators=10, n_jobs=-1),\n",
    "    AdaBoostClassifier(),\n",
    "    GaussianNB()\n",
    "]\n",
    "\n",
    "y_pred = []\n",
    "train_time = []\n",
    "\n",
    "for name, clf in zip(names, classifiers):\n",
    "    tic = time()\n",
    "    clf.fit(X_train, y_train)\n",
    "    toc = time()\n",
    "    \n",
    "    y_pred.append(clf.predict(X_train))\n",
    "    train_time.append(toc - tic)\n",
    "    \n",
    "    print(\"Classifier : {} ===> Training duration : {} sec\".format(name, train_time[-1]))"
   ]
  },
  {
   "cell_type": "code",
   "execution_count": 84,
   "metadata": {},
   "outputs": [],
   "source": [
    "def find_best_algorithms(y_true, y_pred, name_classifiers, train_time=None):\n",
    "    assert(len(y_pred) == len(name_classifiers))\n",
    "    assert(len(train_time) == len(name_classifiers) if train_time else True)\n",
    "    \n",
    "    reports = []\n",
    "    metrics = [\"Classifier\", \"Accuracy\", \"Precision\", \"Recall\", \"F1-Score\"]\n",
    "    if train_time:\n",
    "        metrics = metrics + [\"Training Duration (seconds)\"]\n",
    "\n",
    "    for idx, y_clf in enumerate(y_pred):\n",
    "        acc = accuracy_score(y_true, y_clf)\n",
    "        pre = precision_score(y_true, y_clf)\n",
    "        rec = recall_score(y_true, y_clf)\n",
    "        f1s = f1_score(y_true, y_clf)\n",
    "        report = (name_classifiers[idx], acc, pre, rec, f1s)\n",
    "        if train_time:\n",
    "            report = report + (train_time[idx], )\n",
    "        reports.append(report)\n",
    "            \n",
    "    display(pd.DataFrame.from_records(reports, columns=metrics))"
   ]
  },
  {
   "cell_type": "code",
   "execution_count": 85,
   "metadata": {},
   "outputs": [
    {
     "data": {
      "text/html": [
       "<div>\n",
       "<style scoped>\n",
       "    .dataframe tbody tr th:only-of-type {\n",
       "        vertical-align: middle;\n",
       "    }\n",
       "\n",
       "    .dataframe tbody tr th {\n",
       "        vertical-align: top;\n",
       "    }\n",
       "\n",
       "    .dataframe thead th {\n",
       "        text-align: right;\n",
       "    }\n",
       "</style>\n",
       "<table border=\"1\" class=\"dataframe\">\n",
       "  <thead>\n",
       "    <tr style=\"text-align: right;\">\n",
       "      <th></th>\n",
       "      <th>Classifier</th>\n",
       "      <th>Accuracy</th>\n",
       "      <th>Precision</th>\n",
       "      <th>Recall</th>\n",
       "      <th>F1-Score</th>\n",
       "    </tr>\n",
       "  </thead>\n",
       "  <tbody>\n",
       "    <tr>\n",
       "      <th>0</th>\n",
       "      <td>Logistic Regression</td>\n",
       "      <td>0.582677</td>\n",
       "      <td>0.577320</td>\n",
       "      <td>0.823529</td>\n",
       "      <td>0.678788</td>\n",
       "    </tr>\n",
       "    <tr>\n",
       "      <th>1</th>\n",
       "      <td>Nearest Neighbors</td>\n",
       "      <td>0.992126</td>\n",
       "      <td>1.000000</td>\n",
       "      <td>0.985294</td>\n",
       "      <td>0.992593</td>\n",
       "    </tr>\n",
       "    <tr>\n",
       "      <th>2</th>\n",
       "      <td>Decision Tree</td>\n",
       "      <td>0.637795</td>\n",
       "      <td>0.689655</td>\n",
       "      <td>0.588235</td>\n",
       "      <td>0.634921</td>\n",
       "    </tr>\n",
       "    <tr>\n",
       "      <th>3</th>\n",
       "      <td>Random Forest</td>\n",
       "      <td>0.874016</td>\n",
       "      <td>0.882353</td>\n",
       "      <td>0.882353</td>\n",
       "      <td>0.882353</td>\n",
       "    </tr>\n",
       "    <tr>\n",
       "      <th>4</th>\n",
       "      <td>AdaBoost</td>\n",
       "      <td>0.559055</td>\n",
       "      <td>0.642857</td>\n",
       "      <td>0.397059</td>\n",
       "      <td>0.490909</td>\n",
       "    </tr>\n",
       "    <tr>\n",
       "      <th>5</th>\n",
       "      <td>Naive Bayes</td>\n",
       "      <td>0.708661</td>\n",
       "      <td>0.762712</td>\n",
       "      <td>0.661765</td>\n",
       "      <td>0.708661</td>\n",
       "    </tr>\n",
       "  </tbody>\n",
       "</table>\n",
       "</div>"
      ],
      "text/plain": [
       "            Classifier  Accuracy  Precision    Recall  F1-Score\n",
       "0  Logistic Regression  0.582677   0.577320  0.823529  0.678788\n",
       "1    Nearest Neighbors  0.992126   1.000000  0.985294  0.992593\n",
       "2        Decision Tree  0.637795   0.689655  0.588235  0.634921\n",
       "3        Random Forest  0.874016   0.882353  0.882353  0.882353\n",
       "4             AdaBoost  0.559055   0.642857  0.397059  0.490909\n",
       "5          Naive Bayes  0.708661   0.762712  0.661765  0.708661"
      ]
     },
     "metadata": {},
     "output_type": "display_data"
    }
   ],
   "source": [
    "y_test_pred = []\n",
    "\n",
    "for name, clf in zip(names, classifiers):\n",
    "    y_test_pred.append(clf.predict(X_test))\n",
    "find_best_algorithms(y_test, y_test_pred, names)"
   ]
  },
  {
   "cell_type": "code",
   "execution_count": 90,
   "metadata": {},
   "outputs": [
    {
     "data": {
      "image/png": "[encoded data removed]",
      "text/plain": [
       "<Figure size 432x288 with 1 Axes>"
      ]
     },
     "metadata": {
      "needs_background": "light"
     },
     "output_type": "display_data"
    }
   ],
   "source": [
    "import matplotlib.pyplot as plt\n",
    "plt.title('Receiver Operating Characteristic')\n",
    "plt.plot(fpr, tpr, 'b', label = 'AUC = %0.2f' % roc_auc)\n",
    "plt.legend(loc = 'lower right')\n",
    "plt.plot([0, 1], [0, 1],'r--')\n",
    "plt.xlim([0, 1])\n",
    "plt.ylim([0, 1])\n",
    "plt.ylabel('True Positive Rate')\n",
    "plt.xlabel('False Positive Rate')\n",
    "plt.show()"
   ]
  },
  {
   "cell_type": "markdown",
   "metadata": {},
   "source": [
    "# RANDOM FOREST"
   ]
  },
  {
   "cell_type": "code",
   "execution_count": 121,
   "metadata": {},
   "outputs": [
    {
     "data": {
      "text/plain": [
       "RandomForestClassifier(bootstrap=True, class_weight=None, criterion='gini',\n",
       "                       max_depth=None, max_features='auto', max_leaf_nodes=None,\n",
       "                       min_impurity_decrease=0.0, min_impurity_split=None,\n",
       "                       min_samples_leaf=1, min_samples_split=2,\n",
       "                       min_weight_fraction_leaf=0.0, n_estimators=100, n_jobs=2,\n",
       "                       oob_score=False, random_state=None, verbose=0,\n",
       "                       warm_start=False)"
      ]
     },
     "execution_count": 121,
     "metadata": {},
     "output_type": "execute_result"
    }
   ],
   "source": [
    "# Create the RandomForest Classifier with gini and fit the training data\n",
    "forest_gini = RandomForestClassifier(n_jobs=2,n_estimators=100,criterion = \"gini\")\n",
    "forest_gini.fit(X_train,y_train)"
   ]
  },
  {
   "cell_type": "code",
   "execution_count": 122,
   "metadata": {},
   "outputs": [
    {
     "data": {
      "text/plain": [
       "RandomForestClassifier(bootstrap=True, class_weight=None, criterion='entropy',\n",
       "                       max_depth=None, max_features='auto', max_leaf_nodes=None,\n",
       "                       min_impurity_decrease=0.0, min_impurity_split=None,\n",
       "                       min_samples_leaf=1, min_samples_split=2,\n",
       "                       min_weight_fraction_leaf=0.0, n_estimators=100, n_jobs=2,\n",
       "                       oob_score=False, random_state=None, verbose=0,\n",
       "                       warm_start=False)"
      ]
     },
     "execution_count": 122,
     "metadata": {},
     "output_type": "execute_result"
    }
   ],
   "source": [
    "# Create the RandomForest Classifier with entropy and fit the training data\n",
    "forest_entropy = RandomForestClassifier(n_jobs=2,n_estimators=100,criterion = \"entropy\")\n",
    "forest_entropy.fit(X_train,y_train)"
   ]
  },
  {
   "cell_type": "code",
   "execution_count": 123,
   "metadata": {},
   "outputs": [
    {
     "name": "stdout",
     "output_type": "stream",
     "text": [
      "The score for the RandomForestClassifier with gini: 0.8267716535433071\n",
      "The score for the RandomForestClassifier with entropy: 0.8503937007874016\n",
      "0.8503937007874016\n"
     ]
    }
   ],
   "source": [
    "score_gini = forest_gini.score(X_test, y_test)\n",
    "score_entropy = forest_entropy.score(X_test, y_test)\n",
    "\n",
    "print(f\"The score for the RandomForestClassifier with gini: {score_gini}\")\n",
    "print(f\"The score for the RandomForestClassifier with entropy: {score_entropy}\")\n",
    "\n",
    "forest = forest_gini  if score_gini > score_entropy else forest_entropy\n",
    "\n",
    "print(forest.score(X_test, y_test))"
   ]
  },
  {
   "cell_type": "code",
   "execution_count": 124,
   "metadata": {},
   "outputs": [
    {
     "data": {
      "text/html": [
       "<div>\n",
       "<style scoped>\n",
       "    .dataframe tbody tr th:only-of-type {\n",
       "        vertical-align: middle;\n",
       "    }\n",
       "\n",
       "    .dataframe tbody tr th {\n",
       "        vertical-align: top;\n",
       "    }\n",
       "\n",
       "    .dataframe thead th {\n",
       "        text-align: right;\n",
       "    }\n",
       "</style>\n",
       "<table border=\"1\" class=\"dataframe\">\n",
       "  <thead>\n",
       "    <tr style=\"text-align: right;\">\n",
       "      <th>Predicted Wins</th>\n",
       "      <th>0</th>\n",
       "      <th>1</th>\n",
       "    </tr>\n",
       "    <tr>\n",
       "      <th>Actial Wins</th>\n",
       "      <th></th>\n",
       "      <th></th>\n",
       "    </tr>\n",
       "  </thead>\n",
       "  <tbody>\n",
       "    <tr>\n",
       "      <th>0</th>\n",
       "      <td>51</td>\n",
       "      <td>8</td>\n",
       "    </tr>\n",
       "    <tr>\n",
       "      <th>1</th>\n",
       "      <td>11</td>\n",
       "      <td>57</td>\n",
       "    </tr>\n",
       "  </tbody>\n",
       "</table>\n",
       "</div>"
      ],
      "text/plain": [
       "Predicted Wins   0   1\n",
       "Actial Wins           \n",
       "0               51   8\n",
       "1               11  57"
      ]
     },
     "execution_count": 124,
     "metadata": {},
     "output_type": "execute_result"
    }
   ],
   "source": [
    "preds = forest.predict(X_test)\n",
    "pd.crosstab(y_test, preds, rownames=['Actual Wins'],colnames=['Predicted Wins'])"
   ]
  },
  {
   "cell_type": "markdown",
   "metadata": {},
   "source": [
    "# REGRESSION"
   ]
  },
  {
   "cell_type": "code",
   "execution_count": 126,
   "metadata": {},
   "outputs": [
    {
     "data": {
      "text/plain": [
       "LogisticRegression(C=1.0, class_weight=None, dual=False, fit_intercept=True,\n",
       "                   intercept_scaling=1, l1_ratio=None, max_iter=2000,\n",
       "                   multi_class='warn', n_jobs=None, penalty='l2',\n",
       "                   random_state=None, solver='warn', tol=0.0001, verbose=0,\n",
       "                   warm_start=False)"
      ]
     },
     "execution_count": 126,
     "metadata": {},
     "output_type": "execute_result"
    }
   ],
   "source": [
    "import warnings\n",
    "warnings.simplefilter(action='ignore')\n",
    "\n",
    "# Adding regresion\n",
    "regr = LogisticRegression(max_iter=2000)\n",
    "\n",
    "regr.fit(X_train,y_train)"
   ]
  },
  {
   "cell_type": "code",
   "execution_count": 127,
   "metadata": {},
   "outputs": [
    {
     "data": {
      "text/plain": [
       "0.5826771653543307"
      ]
     },
     "execution_count": 127,
     "metadata": {},
     "output_type": "execute_result"
    }
   ],
   "source": [
    "regr.score(X_test, y_test)"
   ]
  },
  {
   "cell_type": "code",
   "execution_count": 128,
   "metadata": {},
   "outputs": [
    {
     "data": {
      "text/html": [
       "<div>\n",
       "<style scoped>\n",
       "    .dataframe tbody tr th:only-of-type {\n",
       "        vertical-align: middle;\n",
       "    }\n",
       "\n",
       "    .dataframe tbody tr th {\n",
       "        vertical-align: top;\n",
       "    }\n",
       "\n",
       "    .dataframe thead th {\n",
       "        text-align: right;\n",
       "    }\n",
       "</style>\n",
       "<table border=\"1\" class=\"dataframe\">\n",
       "  <thead>\n",
       "    <tr style=\"text-align: right;\">\n",
       "      <th>Predicted Wins</th>\n",
       "      <th>0</th>\n",
       "      <th>1</th>\n",
       "    </tr>\n",
       "    <tr>\n",
       "      <th>Actial Wins</th>\n",
       "      <th></th>\n",
       "      <th></th>\n",
       "    </tr>\n",
       "  </thead>\n",
       "  <tbody>\n",
       "    <tr>\n",
       "      <th>0</th>\n",
       "      <td>18</td>\n",
       "      <td>41</td>\n",
       "    </tr>\n",
       "    <tr>\n",
       "      <th>1</th>\n",
       "      <td>12</td>\n",
       "      <td>56</td>\n",
       "    </tr>\n",
       "  </tbody>\n",
       "</table>\n",
       "</div>"
      ],
      "text/plain": [
       "Predicted Wins   0   1\n",
       "Actial Wins           \n",
       "0               18  41\n",
       "1               12  56"
      ]
     },
     "execution_count": 128,
     "metadata": {},
     "output_type": "execute_result"
    }
   ],
   "source": [
    "preds = regr.predict(X_test)\n",
    "pd.crosstab(y_test, preds, rownames=['Actual Wins'],colnames=['Predicted Wins'])"
   ]
  },
  {
   "cell_type": "markdown",
   "metadata": {},
   "source": [
    "# KNN"
   ]
  },
  {
   "cell_type": "code",
   "execution_count": 129,
   "metadata": {},
   "outputs": [
    {
     "data": {
      "text/plain": [
       "KNeighborsClassifier(algorithm='auto', leaf_size=30, metric='minkowski',\n",
       "                     metric_params=None, n_jobs=None, n_neighbors=11, p=2,\n",
       "                     weights='uniform')"
      ]
     },
     "execution_count": 129,
     "metadata": {},
     "output_type": "execute_result"
    }
   ],
   "source": [
    "import math\n",
    "\n",
    "neigh = KNeighborsClassifier(n_neighbors= int(math.sqrt(len(X_test))))\n",
    "neigh.fit(X_train,y_train)\n"
   ]
  },
  {
   "cell_type": "code",
   "execution_count": 132,
   "metadata": {},
   "outputs": [
    {
     "data": {
      "text/plain": [
       "0.9903097092912787"
      ]
     },
     "execution_count": 132,
     "metadata": {},
     "output_type": "execute_result"
    }
   ],
   "source": [
    "neigh.score(X_train, y_train)"
   ]
  },
  {
   "cell_type": "code",
   "execution_count": 135,
   "metadata": {},
   "outputs": [
    {
     "data": {
      "text/html": [
       "<div>\n",
       "<style scoped>\n",
       "    .dataframe tbody tr th:only-of-type {\n",
       "        vertical-align: middle;\n",
       "    }\n",
       "\n",
       "    .dataframe tbody tr th {\n",
       "        vertical-align: top;\n",
       "    }\n",
       "\n",
       "    .dataframe thead th {\n",
       "        text-align: right;\n",
       "    }\n",
       "</style>\n",
       "<table border=\"1\" class=\"dataframe\">\n",
       "  <thead>\n",
       "    <tr style=\"text-align: right;\">\n",
       "      <th>Predicted Wins</th>\n",
       "      <th>0</th>\n",
       "      <th>1</th>\n",
       "    </tr>\n",
       "    <tr>\n",
       "      <th>Actial Wins</th>\n",
       "      <th></th>\n",
       "      <th></th>\n",
       "    </tr>\n",
       "  </thead>\n",
       "  <tbody>\n",
       "    <tr>\n",
       "      <th>0</th>\n",
       "      <td>58</td>\n",
       "      <td>1</td>\n",
       "    </tr>\n",
       "    <tr>\n",
       "      <th>1</th>\n",
       "      <td>1</td>\n",
       "      <td>67</td>\n",
       "    </tr>\n",
       "  </tbody>\n",
       "</table>\n",
       "</div>"
      ],
      "text/plain": [
       "Predicted Wins   0   1\n",
       "Actial Wins           \n",
       "0               58   1\n",
       "1                1  67"
      ]
     },
     "execution_count": 135,
     "metadata": {},
     "output_type": "execute_result"
    }
   ],
   "source": [
    "preds = neigh.predict(X_test)\n",
    "pd.crosstab(y_test, preds, rownames=['Actual Wins'],colnames=['Predicted Wins'])"
   ]
  },
  {
   "cell_type": "markdown",
   "metadata": {},
   "source": [
    "# DecisionTreeClassifier"
   ]
  },
  {
   "cell_type": "code",
   "execution_count": 137,
   "metadata": {},
   "outputs": [],
   "source": [
    "decTree = DecisionTreeClassifier(max_depth=10)"
   ]
  },
  {
   "cell_type": "code",
   "execution_count": 138,
   "metadata": {},
   "outputs": [
    {
     "data": {
      "text/plain": [
       "DecisionTreeClassifier(class_weight=None, criterion='gini', max_depth=10,\n",
       "                       max_features=None, max_leaf_nodes=None,\n",
       "                       min_impurity_decrease=0.0, min_impurity_split=None,\n",
       "                       min_samples_leaf=1, min_samples_split=2,\n",
       "                       min_weight_fraction_leaf=0.0, presort=False,\n",
       "                       random_state=None, splitter='best')"
      ]
     },
     "execution_count": 138,
     "metadata": {},
     "output_type": "execute_result"
    }
   ],
   "source": [
    "decTree.fit(X_train,y_train)"
   ]
  },
  {
   "cell_type": "code",
   "execution_count": 139,
   "metadata": {},
   "outputs": [],
   "source": [
    "preds = decTree.predict(X_test)"
   ]
  },
  {
   "cell_type": "code",
   "execution_count": 140,
   "metadata": {},
   "outputs": [
    {
     "data": {
      "text/html": [
       "<div>\n",
       "<style scoped>\n",
       "    .dataframe tbody tr th:only-of-type {\n",
       "        vertical-align: middle;\n",
       "    }\n",
       "\n",
       "    .dataframe tbody tr th {\n",
       "        vertical-align: top;\n",
       "    }\n",
       "\n",
       "    .dataframe thead th {\n",
       "        text-align: right;\n",
       "    }\n",
       "</style>\n",
       "<table border=\"1\" class=\"dataframe\">\n",
       "  <thead>\n",
       "    <tr style=\"text-align: right;\">\n",
       "      <th>Predicted Wins</th>\n",
       "      <th>0</th>\n",
       "      <th>1</th>\n",
       "    </tr>\n",
       "    <tr>\n",
       "      <th>Actial Wins</th>\n",
       "      <th></th>\n",
       "      <th></th>\n",
       "    </tr>\n",
       "  </thead>\n",
       "  <tbody>\n",
       "    <tr>\n",
       "      <th>0</th>\n",
       "      <td>41</td>\n",
       "      <td>18</td>\n",
       "    </tr>\n",
       "    <tr>\n",
       "      <th>1</th>\n",
       "      <td>28</td>\n",
       "      <td>40</td>\n",
       "    </tr>\n",
       "  </tbody>\n",
       "</table>\n",
       "</div>"
      ],
      "text/plain": [
       "Predicted Wins   0   1\n",
       "Actial Wins           \n",
       "0               41  18\n",
       "1               28  40"
      ]
     },
     "execution_count": 140,
     "metadata": {},
     "output_type": "execute_result"
    }
   ],
   "source": [
    "pd.crosstab(y_test, preds, rownames=['Actual Wins'],colnames=['Predicted Wins'])"
   ]
  },
  {
   "cell_type": "markdown",
   "metadata": {},
   "source": [
    "# AdaBoost"
   ]
  },
  {
   "cell_type": "code",
   "execution_count": 141,
   "metadata": {},
   "outputs": [
    {
     "data": {
      "text/plain": [
       "AdaBoostClassifier(algorithm='SAMME.R', base_estimator=None, learning_rate=1.0,\n",
       "                   n_estimators=50, random_state=None)"
      ]
     },
     "execution_count": 141,
     "metadata": {},
     "output_type": "execute_result"
    }
   ],
   "source": [
    "adaBoost = AdaBoostClassifier()\n",
    "adaBoost.fit(X_train,y_train)"
   ]
  },
  {
   "cell_type": "code",
   "execution_count": 142,
   "metadata": {},
   "outputs": [
    {
     "data": {
      "text/plain": [
       "0.5590551181102362"
      ]
     },
     "execution_count": 142,
     "metadata": {},
     "output_type": "execute_result"
    }
   ],
   "source": [
    "adaBoost.score(X_test, y_test)"
   ]
  },
  {
   "cell_type": "code",
   "execution_count": 143,
   "metadata": {},
   "outputs": [
    {
     "data": {
      "text/html": [
       "<div>\n",
       "<style scoped>\n",
       "    .dataframe tbody tr th:only-of-type {\n",
       "        vertical-align: middle;\n",
       "    }\n",
       "\n",
       "    .dataframe tbody tr th {\n",
       "        vertical-align: top;\n",
       "    }\n",
       "\n",
       "    .dataframe thead th {\n",
       "        text-align: right;\n",
       "    }\n",
       "</style>\n",
       "<table border=\"1\" class=\"dataframe\">\n",
       "  <thead>\n",
       "    <tr style=\"text-align: right;\">\n",
       "      <th>Predicted Wins</th>\n",
       "      <th>0</th>\n",
       "      <th>1</th>\n",
       "    </tr>\n",
       "    <tr>\n",
       "      <th>Actial Wins</th>\n",
       "      <th></th>\n",
       "      <th></th>\n",
       "    </tr>\n",
       "  </thead>\n",
       "  <tbody>\n",
       "    <tr>\n",
       "      <th>0</th>\n",
       "      <td>44</td>\n",
       "      <td>15</td>\n",
       "    </tr>\n",
       "    <tr>\n",
       "      <th>1</th>\n",
       "      <td>41</td>\n",
       "      <td>27</td>\n",
       "    </tr>\n",
       "  </tbody>\n",
       "</table>\n",
       "</div>"
      ],
      "text/plain": [
       "Predicted Wins   0   1\n",
       "Actial Wins           \n",
       "0               44  15\n",
       "1               41  27"
      ]
     },
     "execution_count": 143,
     "metadata": {},
     "output_type": "execute_result"
    }
   ],
   "source": [
    "preds = adaBoost.predict(X_test)\n",
    "pd.crosstab(y_test, preds, rownames=['Actual Wins'],colnames=['Predicted Wins'])"
   ]
  },
  {
   "cell_type": "markdown",
   "metadata": {},
   "source": [
    "# NAIVE BAYSE"
   ]
  },
  {
   "cell_type": "code",
   "execution_count": 144,
   "metadata": {},
   "outputs": [
    {
     "data": {
      "text/plain": [
       "GaussianNB(priors=None, var_smoothing=1e-09)"
      ]
     },
     "execution_count": 144,
     "metadata": {},
     "output_type": "execute_result"
    }
   ],
   "source": [
    "nv = GaussianNB()\n",
    "nv.fit(X_train,y_train)"
   ]
  },
  {
   "cell_type": "code",
   "execution_count": 145,
   "metadata": {},
   "outputs": [
    {
     "data": {
      "text/plain": [
       "0.7086614173228346"
      ]
     },
     "execution_count": 145,
     "metadata": {},
     "output_type": "execute_result"
    }
   ],
   "source": [
    "nv.score(X_test, y_test)"
   ]
  },
  {
   "cell_type": "code",
   "execution_count": 146,
   "metadata": {},
   "outputs": [
    {
     "data": {
      "text/html": [
       "<div>\n",
       "<style scoped>\n",
       "    .dataframe tbody tr th:only-of-type {\n",
       "        vertical-align: middle;\n",
       "    }\n",
       "\n",
       "    .dataframe tbody tr th {\n",
       "        vertical-align: top;\n",
       "    }\n",
       "\n",
       "    .dataframe thead th {\n",
       "        text-align: right;\n",
       "    }\n",
       "</style>\n",
       "<table border=\"1\" class=\"dataframe\">\n",
       "  <thead>\n",
       "    <tr style=\"text-align: right;\">\n",
       "      <th>Predicted Wins</th>\n",
       "      <th>0</th>\n",
       "      <th>1</th>\n",
       "    </tr>\n",
       "    <tr>\n",
       "      <th>Actial Wins</th>\n",
       "      <th></th>\n",
       "      <th></th>\n",
       "    </tr>\n",
       "  </thead>\n",
       "  <tbody>\n",
       "    <tr>\n",
       "      <th>0</th>\n",
       "      <td>45</td>\n",
       "      <td>14</td>\n",
       "    </tr>\n",
       "    <tr>\n",
       "      <th>1</th>\n",
       "      <td>23</td>\n",
       "      <td>45</td>\n",
       "    </tr>\n",
       "  </tbody>\n",
       "</table>\n",
       "</div>"
      ],
      "text/plain": [
       "Predicted Wins   0   1\n",
       "Actial Wins           \n",
       "0               45  14\n",
       "1               23  45"
      ]
     },
     "execution_count": 146,
     "metadata": {},
     "output_type": "execute_result"
    }
   ],
   "source": [
    "preds = nv.predict(X_test)\n",
    "pd.crosstab(y_test, preds, rownames=['Actual Wins'],colnames=['Predicted Wins'])"
   ]
  },
  {
   "cell_type": "markdown",
   "metadata": {},
   "source": [
    "# Feature Importance and Feature Selection\n",
    "- Feature importance can computed by accumulating the loss reduction achieved by the corresponding nodes across the forest.\n",
    "\n",
    "- Scikit-learn provides a normalized (sums to 1) feature importance score\n",
    "\n",
    "- Let's evaluate the goodness of the model when using only a subset of the features available."
   ]
  },
  {
   "cell_type": "code",
   "execution_count": 242,
   "metadata": {},
   "outputs": [
    {
     "name": "stdout",
     "output_type": "stream",
     "text": [
      "(127, 12)\n",
      "(127,)\n",
      "Index(['Best of', 'Court', 'Date', 'LPts', 'LRank', 'Loser', 'Player1',\n",
      "       'Player2', 'PtsDiff', 'RankDiff', 'Round', 'RoundDiff', 'Series',\n",
      "       'Surface', 'Tournament', 'Unnamed: 0', 'WPts', 'WRank',\n",
      "       'WeightedRndDiff', 'Winner', 'Won', 'Wp1Vsp2', 'Year', 'p1Vsp2'],\n",
      "      dtype='object')\n"
     ]
    }
   ],
   "source": [
    "from sklearn.utils import resample\n",
    "from sklearn.ensemble import RandomForestRegressor\n",
    "from sklearn.metrics import mean_squared_error\n",
    "X = X_test\n",
    "y = y_test\n",
    "\n",
    "print (X.shape)\n",
    "print (y.shape)\n",
    "print (df_test.columns)"
   ]
  },
  {
   "cell_type": "code",
   "execution_count": 243,
   "metadata": {},
   "outputs": [
    {
     "data": {
      "text/plain": [
       "RandomForestRegressor(bootstrap=True, criterion='mse', max_depth=None,\n",
       "                      max_features='auto', max_leaf_nodes=None,\n",
       "                      min_impurity_decrease=0.0, min_impurity_split=None,\n",
       "                      min_samples_leaf=1, min_samples_split=2,\n",
       "                      min_weight_fraction_leaf=0.0, n_estimators=100,\n",
       "                      n_jobs=None, oob_score=False, random_state=None,\n",
       "                      verbose=0, warm_start=False)"
      ]
     },
     "execution_count": 243,
     "metadata": {},
     "output_type": "execute_result"
    }
   ],
   "source": [
    "rf = RandomForestRegressor(n_estimators=100)\n",
    "rf.fit(X,y)"
   ]
  },
  {
   "cell_type": "code",
   "execution_count": 244,
   "metadata": {},
   "outputs": [
    {
     "data": {
      "text/plain": [
       "array([0.        , 0.09705846, 0.08405757, 0.17362644, 0.12552842,\n",
       "       0.23283716, 0.09705164, 0.10483323, 0.06703089, 0.01235999,\n",
       "       0.        , 0.0056162 ])"
      ]
     },
     "execution_count": 244,
     "metadata": {},
     "output_type": "execute_result"
    }
   ],
   "source": [
    "rf.feature_importances_"
   ]
  },
  {
   "cell_type": "code",
   "execution_count": 247,
   "metadata": {},
   "outputs": [
    {
     "data": {
      "text/plain": [
       "Text(0.5, 1.0, 'Feature Importances')"
      ]
     },
     "execution_count": 247,
     "metadata": {},
     "output_type": "execute_result"
    },
    {
     "data": {
      "image/png": "[encoded data removed]",
      "text/plain": [
       "<Figure size 432x432 with 1 Axes>"
      ]
     },
     "metadata": {
      "needs_background": "light"
     },
     "output_type": "display_data"
    }
   ],
   "source": [
    "fig, ax = plt.subplots(figsize=(6,6))\n",
    "ax.bar(range(0,X.shape[1]), rf.feature_importances_)\n",
    "ax.set_title(\"Feature Importances\")"
   ]
  },
  {
   "cell_type": "markdown",
   "metadata": {},
   "source": [
    "# Recursive Elimination\n",
    "\n",
    "- The ranking might be affected by feature interactions (e.g., dependencies, or correlations)\n",
    "\n",
    "- We can apply the above ranking and selection recursively:\n",
    "  - Build a Random Forest\n",
    "  - Discard a few low scored features\n",
    "  - Repeat\n",
    "  "
   ]
  },
  {
   "cell_type": "code",
   "execution_count": 251,
   "metadata": {},
   "outputs": [
    {
     "data": {
      "text/plain": [
       "RFE(estimator=RandomForestRegressor(bootstrap=True, criterion='mse',\n",
       "                                    max_depth=None, max_features='auto',\n",
       "                                    max_leaf_nodes=None,\n",
       "                                    min_impurity_decrease=0.0,\n",
       "                                    min_impurity_split=None, min_samples_leaf=1,\n",
       "                                    min_samples_split=2,\n",
       "                                    min_weight_fraction_leaf=0.0,\n",
       "                                    n_estimators=100, n_jobs=None,\n",
       "                                    oob_score=False, random_state=None,\n",
       "                                    verbose=0, warm_start=False),\n",
       "    n_features_to_select=1, step=1, verbose=0)"
      ]
     },
     "execution_count": 251,
     "metadata": {},
     "output_type": "execute_result"
    }
   ],
   "source": [
    "from sklearn.feature_selection import RFE\n",
    "\n",
    "rf_small = RandomForestRegressor(n_estimators=100)\n",
    "selector = RFE(rf_small, \n",
    "                 step=1, # features removed at each step\n",
    "                 n_features_to_select=1 # selected features\n",
    "                )\n",
    "selector.fit(X,y)"
   ]
  },
  {
   "cell_type": "code",
   "execution_count": 252,
   "metadata": {},
   "outputs": [
    {
     "data": {
      "text/plain": [
       "array([ 5,  3,  1,  7,  4,  6,  2,  8,  9, 11, 10,  0])"
      ]
     },
     "execution_count": 252,
     "metadata": {},
     "output_type": "execute_result"
    }
   ],
   "source": [
    "np.argsort(selector.ranking_)"
   ]
  },
  {
   "cell_type": "code",
   "execution_count": 255,
   "metadata": {},
   "outputs": [
    {
     "data": {
      "text/plain": [
       "0.8355053358227472"
      ]
     },
     "execution_count": 255,
     "metadata": {},
     "output_type": "execute_result"
    }
   ],
   "source": [
    "selector.score(X_test,y_test)"
   ]
  },
  {
   "cell_type": "markdown",
   "metadata": {},
   "source": [
    "# Recursive feature elimination with cross-validation"
   ]
  },
  {
   "cell_type": "code",
   "execution_count": 257,
   "metadata": {},
   "outputs": [
    {
     "name": "stdout",
     "output_type": "stream",
     "text": [
      "Optimal number of features : 7\n"
     ]
    },
    {
     "data": {
      "image/png": "[encoded data removed]",
      "text/plain": [
       "<Figure size 432x288 with 1 Axes>"
      ]
     },
     "metadata": {
      "needs_background": "light"
     },
     "output_type": "display_data"
    }
   ],
   "source": [
    "from sklearn.svm import SVC\n",
    "from sklearn.model_selection import StratifiedKFold\n",
    "from sklearn.feature_selection import RFECV\n",
    "from sklearn.datasets import make_classification\n",
    "svc = SVC(kernel=\"linear\")\n",
    "rfecv = RFECV(estimator=svc, step=1, cv=StratifiedKFold(2),\n",
    "              scoring='accuracy')\n",
    "rfecv.fit(X, y)\n",
    "\n",
    "print(\"Optimal number of features : %d\" % rfecv.n_features_)\n",
    "\n",
    "# Plot number of features VS. cross-validation scores\n",
    "plt.figure()\n",
    "plt.xlabel(\"Number of features selected\")\n",
    "plt.ylabel(\"Cross validation score (nb of correct classifications)\")\n",
    "plt.plot(range(1, len(rfecv.grid_scores_) + 1), rfecv.grid_scores_)\n",
    "plt.show()"
   ]
  },
  {
   "cell_type": "markdown",
   "metadata": {},
   "source": [
    "The best accuracy is around 95 percent. From my point of view is pretty decent. The nature of the problem is not an ordinary ML task since it includes the Time factor that I did not explore using time series techniques. I have not used betting data because it’s the output of other people models, and it does not make sense to use it and pretend having built a realistic ML Model."
   ]
  }
 ],
 "metadata": {
  "kernelspec": {
   "display_name": "Python 3",
   "language": "python",
   "name": "python3"
  },
  "language_info": {
   "codemirror_mode": {
    "name": "ipython",
    "version": 3
   },
   "file_extension": ".py",
   "mimetype": "text/x-python",
   "name": "python",
   "nbconvert_exporter": "python",
   "pygments_lexer": "ipython3",
   "version": "3.7.3"
  },
  "latex_envs": {
   "LaTeX_envs_menu_present": true,
   "autoclose": false,
   "autocomplete": true,
   "bibliofile": "biblio.bib",
   "cite_by": "apalike",
   "current_citInitial": 1,
   "eqLabelWithNumbers": true,
   "eqNumInitial": 1,
   "hotkeys": {
    "equation": "Ctrl-E",
    "itemize": "Ctrl-I"
   },
   "labels_anchors": false,
   "latex_user_defs": false,
   "report_style_numbering": false,
   "user_envs_cfg": false
  }
 },
 "nbformat": 4,
 "nbformat_minor": 2
}
